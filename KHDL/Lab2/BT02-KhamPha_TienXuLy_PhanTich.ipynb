{
 "cells": [
  {
   "cell_type": "markdown",
   "metadata": {},
   "source": [
    "# Lab 02: Khám phá dữ liệu, tiền xử lý, và phân tích thống kê\n",
    "\n",
    "**Thông tin liên lạc HDTH**\n",
    "\n",
    "Lab Instructor: Lê Nhựt Nam (CN.)\n",
    "\n",
    "Email: lenam.fithcmus@gmail.com\n",
    "\n",
    "**Thông tin sinh viên**\n",
    "\n",
    "Họ tên sinh viên: Lê Nguyên Khang\n",
    "\n",
    "Mã số sinh viên: 20120113"
   ]
  },
  {
   "cell_type": "markdown",
   "metadata": {},
   "source": [
    "## Cách làm bài và nộp bài\n",
    "\n",
    "&#9889; Bạn lưu ý là mình sẽ dùng chương trình hỗ trợ chấm bài nên bạn cần phải tuân thủ chính xác qui định mà mình đặt ra, nếu không rõ thì hỏi, chứ không nên tự tiện làm theo ý của cá nhân.\n",
    "\n",
    "### Cách làm bài\n",
    "\n",
    "Bạn sẽ làm trực tiếp trên file notebook này. Đầu tiên, bạn điền họ tên và MSSV vào phần đầu file ở bên trên. Trong file, bạn làm bài ở những chỗ có ghi là:\n",
    "```python\n",
    "# YOUR CODE HERE\n",
    "raise NotImplementedError()\n",
    "```\n",
    "hoặc đối với những phần code không bắt buộc thì là:\n",
    "```python\n",
    "# YOUR CODE HERE (OPTION)\n",
    "```\n",
    "hoặc đối với markdown cell thì là:\n",
    "```markdown\n",
    "YOUR ANSWER HERE\n",
    "```\n",
    "Tất nhiên, khi làm thì bạn xóa dòng `raise NotImplementedError()` đi.\n",
    "Đối những phần yêu cầu code thì thường ở ngay phía dưới sẽ có một (hoặc một số) cell chứa các bộ test để giúp bạn biết đã code đúng hay chưa; nếu chạy cell này không có lỗi gì thì có nghĩa là qua được các bộ test. Trong một số trường hợp, các bộ test có thể sẽ không đầy đủ; nghĩa là, nếu không qua được test thì là code sai, nhưng nếu qua được test thì chưa chắc đã đúng.\n",
    "\n",
    "Trong khi làm bài, bạn có thể cho in ra màn hình, tạo thêm các cell để test. Nhưng khi nộp bài thì bạn xóa các cell mà bạn tự tạo, xóa hoặc comment các câu lệnh in ra màn hình. Bạn lưu ý <font color=red>không được tự tiện xóa các cell hay sửa code của Lab Instructor</font> (trừ những chỗ được phép sửa như đã nói ở trên).\n",
    "\n",
    "Trong khi làm bài, thường xuyên `Ctrl + S` để lưu lại bài làm của bạn, tránh mất mát thông tin.\n",
    "\n",
    "\n",
    "*Nên nhớ mục tiêu chính ở đây là <font color=green>học, học một cách chân thật</font>. Bạn có thể thảo luận ý tưởng với bạn khác, nhưng <font color=green>code và bài làm phải là của bạn, dựa trên sự hiểu thật sự của bạn</font>. <font color=red>Nếu vi phạm thì sẽ bị 0 điểm cho toàn bộ môn học.</font>*\n",
    "\n",
    "\n",
    "### Cách nộp bài\n",
    "\n",
    "Khi chấm bài, đầu tiên mình sẽ chọn `Kernel` - `Restart & Run All`, để restart và chạy tất cả các cell trong notebook của bạn; do đó, trước khi nộp bài, bạn nên chạy thử `Kernel` - `Restart & Run All` để đảm bảo mọi chuyện diễn ra đúng như mong đợi.\n",
    "\n",
    "Sau đó, bạn tạo thư mục nộp bài theo cấu trúc sau:\n",
    "- Thư mục `MSSV` (vd, nếu bạn có MSSV là 1234567 thì bạn đặt tên thư mục là `1234567`)\n",
    "    - File `BT02-KhamPha_TienXuLy_PhanTich.ipynb` (không cần nộp các file khác)\n",
    "\n",
    "Cuối cùng, bạn nén thư mục `MSSV` này lại với định dạng `.zip` và nộp ở link trên moodle. <font color=red>Bạn lưu ý tuân thủ chính xác cấu trúc và định dạng tập tin nộp bài này.</font>"
   ]
  },
  {
   "cell_type": "markdown",
   "metadata": {},
   "source": [
    "## Import những thư viện cần thiết"
   ]
  },
  {
   "cell_type": "code",
   "execution_count": 56,
   "metadata": {},
   "outputs": [],
   "source": [
    "%matplotlib inline\n",
    "import matplotlib.pyplot as plt\n",
    "import numpy as np\n",
    "import pandas as pd \n",
    "import random as rd\n",
    "\n",
    "# YOUR CODE HERE (OPTION)\n",
    "# Nếu cần các thư viện khác thì bạn có thể import ở đây"
   ]
  },
  {
   "cell_type": "code",
   "execution_count": null,
   "metadata": {},
   "outputs": [],
   "source": [
    "import sys\n",
    "sys.executable"
   ]
  },
  {
   "cell_type": "markdown",
   "metadata": {},
   "source": [
    "## Thu thập dữ liệu\n",
    "\n",
    "Dữ liệu được sử dụng trong bài tập này là dữ liệu khảo sát các lập trình viên của trang StackOverflow.\n",
    "\n",
    "Theo mô tả trong file \"README_2022.txt\" của StackOverflow:\n",
    "\n",
    "> The enclosed data set is the complete, cleaned results of the 2022 Stack Overflow Developer Survey. Free response submissions and personally-identifying information have been removed from the results to protect the privacy of respondents. There are three files besides this README:\n",
    "> \n",
    "> 1. survey_results_public.csv - CSV file with main survey results, one respondent per row and one column per answer\n",
    "> 2. survey_results_schema.csv - CSV file with survey schema, i.e., the questions that correspond to each column name\n",
    "> 3. so_survey_2022.pdf - PDF file of the survey instrument\n",
    "> The survey was fielded from May 11, 2022 to June 1, 2022. The median time spent on the survey for qualified responses was 15.08 minutes.\n",
    "> \n",
    "> Respondents were recruited primarily through channels owned by Stack Overflow. The top 5 sources of respondents were onsite messaging, blog posts, email lists, Meta posts, banner ads, and social media posts. Since respondents were recruited in this way, highly engaged users on Stack Overflow were more likely to notice the links for the survey and click to begin it.\n",
    "\n",
    "Để ý: \n",
    "- Dữ liệu này không đại diện được cho cộng đồng lập trình viên trên toàn thế giới, mà chỉ giới hạn trong tập những lập trình viên thực hiện khảo sát của StackOverflow. Những câu trả lời có được thông qua tập dữ liệu này cũng sẽ bị giới hạn trong phạm vi đó.\n",
    "- Dữ liệu có đúng không? Về cơ bản là ta không biết được. Ở đây, mục đích chính là học qui trình Khoa Học Dữ Liệu và các câu lệnh của Pandas nên ta sẽ **giả định** phần lớn dữ liệu là đúng và tiếp tục làm.\n",
    "\n",
    "Cũng theo file \"README_2022.txt\", dữ liệu này được StackOverflow public với license như sau:\n",
    "\n",
    "> This database - The Public 2022 Stack Overflow Developer Survey Results - is made available under the Open Database License (ODbL): http://opendatacommons.org/licenses/odbl/1.0/. Any rights in individual contents of the database are licensed under the Database Contents License: http://opendatacommons.org/licenses/dbcl/1.0/\n",
    "> \n",
    "> TLDR: You are free to share, adapt, and create derivative works from The Public 2022 Stack Overflow Developer Survey Results as long as you attribute Stack Overflow, keep the database open (if you redistribute it), and continue to share-alike any adapted database under the ODbl.\n",
    "\n",
    "Trong phần Acknowledgment:\n",
    "\n",
    "> Massive, heartfelt thanks to all Stack Overflow contributors and lurking developers of the world who took part in the survey this year. We value your generous participation more than you know. <3\n"
   ]
  },
  {
   "cell_type": "markdown",
   "metadata": {},
   "source": [
    "## Khám phá dữ liệu\n",
    "\n",
    "Thư mục HW2 sẽ được tổ chức như sau: "
   ]
  },
  {
   "cell_type": "code",
   "execution_count": null,
   "metadata": {},
   "outputs": [],
   "source": [
    "!tree"
   ]
  },
  {
   "cell_type": "markdown",
   "metadata": {},
   "source": [
    "### Đọc dữ liệu từ tập tin (file) - Điểm: (0.25đ)\n",
    "\n",
    "Đầu tiên, bạn viết code để đọc dữ liệu từ file \"survey_results_public.csv\" và lưu kết quả vào DataFrame survey_df. Ngoài ra, bạn cũng cần cho cột Respondent (id của người làm khảo sát) làm cột index của survey_df."
   ]
  },
  {
   "cell_type": "code",
   "execution_count": 59,
   "metadata": {},
   "outputs": [],
   "source": [
    "# # YOUR CODE HERE\n",
    "# raise NotImplementedError()\n",
    "survey_df = pd.read_csv('data/2022/survey_results_public.csv')\n",
    "survey_df = survey_df.set_index('ResponseId')\n"
   ]
  },
  {
   "cell_type": "code",
   "execution_count": null,
   "metadata": {},
   "outputs": [],
   "source": [
    "# TEST\n",
    "survey_df.head()"
   ]
  },
  {
   "cell_type": "markdown",
   "metadata": {},
   "source": [
    "### Dữ liệu có bao nhiêu dòng và bao nhiêu cột? - Điểm: (0.25đ)\n",
    "\n",
    "Kế đến, bạn tính số dòng và số cột của DataFrame `survey_df` và lưu vào biến `shape` (tuple). "
   ]
  },
  {
   "cell_type": "code",
   "execution_count": 61,
   "metadata": {},
   "outputs": [],
   "source": [
    "# # YOUR CODE HERE\n",
    "# raise NotImplementedError()\n",
    "shape = survey_df.shape"
   ]
  },
  {
   "cell_type": "code",
   "execution_count": 62,
   "metadata": {},
   "outputs": [],
   "source": [
    "# TEST\n",
    "assert shape == (73268, 78)"
   ]
  },
  {
   "cell_type": "markdown",
   "metadata": {},
   "source": [
    "### Mỗi dòng có ý nghĩa gì? Có vấn đề các dòng có ý nghĩa khác nhau không?\n",
    "\n",
    "Theo file \"README_2021.txt\" cũng như theo quan sát sơ bộ về dữ liệu, mỗi dòng trong DataFrame `survey_df` cho biết kết quả làm khảo sát của một người. Có vẻ không có vấn đề các dòng có ý nghĩa khác nhau (lúc sau, nếu phát hiện ra vấn đề thì ta sẽ quay lại đây). "
   ]
  },
  {
   "cell_type": "markdown",
   "metadata": {},
   "source": [
    "### Dữ liệu có các dòng bị lặp không? - Điểm: (0.25đ)\n",
    "\n",
    "Kế đến, bạn tính số dòng có index (id của người làm khảo sát) bị lặp và lưu vào biến `num_duplicated_rows`. Trong nhóm các dòng có index giống nhau thì dòng đầu tiên không tính là bị lặp."
   ]
  },
  {
   "cell_type": "code",
   "execution_count": 63,
   "metadata": {},
   "outputs": [],
   "source": [
    "# # YOUR CODE HERE\n",
    "# raise NotImplementedError()\n",
    "num_duplicated_rows = 0\n",
    "used = []\n",
    "index = survey_df.index\n",
    "for i in index:\n",
    "    if i not in used:\n",
    "        used.append(i)\n",
    "    else:\n",
    "        num_duplicated_rows+=1\n"
   ]
  },
  {
   "cell_type": "code",
   "execution_count": 64,
   "metadata": {},
   "outputs": [],
   "source": [
    "# TEST\n",
    "assert num_duplicated_rows == 0"
   ]
  },
  {
   "cell_type": "markdown",
   "metadata": {},
   "source": [
    "### Mỗi cột có ý nghĩa gì? - Điểm: (0.25đ)\n",
    "\n",
    "Để xem ý nghĩa của mỗi cột thì:\n",
    "- Trước tiên, bạn cần đọc file \"survey_results_schema-short.csv\" vào DataFrame `col_meaning_df`; bạn cần chọn hai cột hai la \"qname\" và \"question\"; bạn cũng cần cho cột \"qname\" làm cột index và cột \"question\" làm giá trị\n",
    "- Sau đó, bạn chỉ cần hiển thị DataFrame `col_meaning_df` ra để xem (vụ này khó nên ở dưới mình đã làm cho bạn ở cell có dòng \"# TEST\" 😉). Tuy nhiên, bạn sẽ thấy ở cột \"QuestionText\": các chuỗi mô tả bị cắt do quá dài. Do đó, trước khi hiển thị DataFrame `col_meaning_df`, bạn cũng cần chỉnh sao đó để các chuỗi mô tả không bị cắt (vụ này bạn tự search Google, gợi ý: bạn sẽ dùng đến câu lệnh `pd.set_option`).   "
   ]
  },
  {
   "cell_type": "code",
   "execution_count": null,
   "metadata": {},
   "outputs": [],
   "source": [
    "survey_df.columns"
   ]
  },
  {
   "cell_type": "code",
   "execution_count": 66,
   "metadata": {},
   "outputs": [],
   "source": [
    "# # YOUR CODE HERE\n",
    "# raise NotImplementedError()\n",
    "col_meaning_df = pd.read_csv('data/2022/survey_results_schema.csv')\n",
    "max_cw=0\n",
    "for i in col_meaning_df['question']:\n",
    "    max_cw = max(len(i), max_cw)\n",
    "\n",
    "pd.set_option('max_colwidth', max_cw + 1)\n",
    "col_meaning_df = col_meaning_df.set_index('qname')\n",
    "col_meaning_df = col_meaning_df[['question']]"
   ]
  },
  {
   "cell_type": "code",
   "execution_count": null,
   "metadata": {},
   "outputs": [],
   "source": [
    "# TEST\n",
    "col_meaning_df.head()"
   ]
  },
  {
   "cell_type": "markdown",
   "metadata": {},
   "source": [
    "Trước khi đi tiếp, bạn nên đọc kết quả hiển thị ở trên và đảm bảo là bạn đã hiểu ý nghĩa của các cột. Để hiểu ý nghĩa của cột, có thể bạn sẽ cần xem thêm các giá trị của cột bên DataFrame `survey_df`. "
   ]
  },
  {
   "cell_type": "markdown",
   "metadata": {},
   "source": [
    "### Chọn một số cột cần thiết - Điểm: (0.25đ)\n",
    "\n",
    "Bởi vì dữ liệu phản hồi khảo sát này chứa một lượng thông tin tương đối nhiều, thế nên chúng ta sẽ giới hạn lại những cột để việc phân tích khối dữ liệu trong bài Lab này được nhẹ nhàng hơn.\n",
    "\n",
    "Những cột mà chúng ta cần chọn sẽ bao gồm:\n",
    "- Thông tin chung: MainBranch\n",
    "- Những thông tin liên quan đến nơi cư trú của những người tham gia khảo sát: Country, Age, Gender, EdLevel, RemoteWork\n",
    "- Những thông tin liên quan đến kỹ năng lập trình, kinh nghiệm làm việc và một số sở thích: DevType, LearnCodeCoursesCert, LanguageHaveWorkedWith, LanguageWantToWorkWith, DatabaseHaveWorkedWith, DatabaseWantToWorkWith, PlatformHaveWorkedWith, PlatformWantToWorkWith, WebframeHaveWorkedWith, WebframeWantToWorkWith, MiscTechHaveWorkedWith, MiscTechWantToWorkWith, ToolsTechHaveWorkedWith, ToolsTechWantToWorkWith, NEWCollabToolsHaveWorkedWith, NEWCollabToolsWantToWorkWith, OpSysPersonal use, OfficeStackAsyncHaveWorkedWith, OfficeStackAsyncWantToWorkWith.\n",
    "- Những thông tin liên quan đến công việc: Employment, WorkExp, CompTotal, CompFreq, YearsCode, YearsCodePro, ConvertedCompYearly\n",
    "- Những thông tin liên quan đến việc sử dụng Stack Overflow: NEWSOSites, SOVisitFreq, SOAccount, SOPartFreq, SOComm"
   ]
  },
  {
   "cell_type": "code",
   "execution_count": 68,
   "metadata": {},
   "outputs": [],
   "source": [
    "# # YOUR CODE HERE\n",
    "# raise NotImplementedError()\n",
    "\n",
    "infor = ['MainBranch', 'Country', 'Age', 'Gender', 'EdLevel', 'RemoteWork', 'DevType', 'LearnCodeCoursesCert', 'LanguageHaveWorkedWith', 'LanguageWantToWorkWith', \n",
    "'DatabaseHaveWorkedWith', 'DatabaseWantToWorkWith', 'PlatformHaveWorkedWith', 'PlatformWantToWorkWith', 'WebframeHaveWorkedWith', 'WebframeWantToWorkWith', 'MiscTechHaveWorkedWith',\n",
    " 'MiscTechWantToWorkWith', 'ToolsTechHaveWorkedWith', 'ToolsTechWantToWorkWith', 'NEWCollabToolsHaveWorkedWith', 'NEWCollabToolsWantToWorkWith', 'OpSysPersonal use', \n",
    " 'OfficeStackAsyncHaveWorkedWith', 'OfficeStackAsyncWantToWorkWith', 'Employment', 'WorkExp', 'CompTotal', 'CompFreq', 'YearsCode', 'YearsCodePro', 'ConvertedCompYearly',\n",
    " 'NEWSOSites', 'SOVisitFreq', 'SOAccount', 'SOPartFreq', 'SOComm']\n",
    "for i in survey_df.columns:\n",
    "    if i not in infor:\n",
    "        survey_df = survey_df.drop(columns = i)\n",
    "\n",
    "shape = survey_df.shape\n",
    " "
   ]
  },
  {
   "cell_type": "code",
   "execution_count": 69,
   "metadata": {},
   "outputs": [],
   "source": [
    "# TEST\n",
    "assert shape == (73268, 37)"
   ]
  },
  {
   "cell_type": "markdown",
   "metadata": {},
   "source": [
    "### Mỗi cột hiện đang có kiểu dữ liệu gì? Có cột nào có kiểu dữ liệu chưa phù hợp để có thể xử lý tiếp không? - Điểm: (0.25đ)"
   ]
  },
  {
   "cell_type": "markdown",
   "metadata": {},
   "source": [
    "Kế đến, bạn tính kiểu dữ liệu (dtype) của mỗi cột trong DataFrame `survey_df` và lưu kết quả vào Series `dtypes` (Series này có index là tên cột). "
   ]
  },
  {
   "cell_type": "code",
   "execution_count": null,
   "metadata": {},
   "outputs": [],
   "source": [
    "survey_df.info()"
   ]
  },
  {
   "cell_type": "code",
   "execution_count": 71,
   "metadata": {},
   "outputs": [],
   "source": [
    "# # YOUR CODE HERE\n",
    "# raise NotImplementedError()\n",
    "col = survey_df.columns\n",
    "id = []\n",
    "ty = []\n",
    "for i in col:\n",
    "    id.append(i)\n",
    "    ty.append(survey_df[i].dtype)\n",
    "dtypes = pd.Series(ty, id)"
   ]
  },
  {
   "cell_type": "code",
   "execution_count": 72,
   "metadata": {},
   "outputs": [],
   "source": [
    "# TEST\n",
    "float_cols = set(dtypes[(dtypes==np.float32) | (dtypes==np.float64)].index)\n",
    "assert float_cols == {'WorkExp', 'CompTotal', 'ConvertedCompYearly'}\n",
    "object_cols = set(dtypes[dtypes == object].index)\n",
    "assert len(object_cols) == 34"
   ]
  },
  {
   "cell_type": "markdown",
   "metadata": {},
   "source": [
    "Như bạn có thể thấy, cột \"YearsCode\" và \"YearsCodePro\" nên có kiểu dữ liệu số, nhưng hiện giờ đang có kiểu dữ liệu object. Ta hãy thử xem thêm về các giá trị 2 cột này. "
   ]
  },
  {
   "cell_type": "code",
   "execution_count": null,
   "metadata": {},
   "outputs": [],
   "source": [
    "survey_df['YearsCode'].unique()"
   ]
  },
  {
   "cell_type": "code",
   "execution_count": null,
   "metadata": {},
   "outputs": [],
   "source": [
    "survey_df['YearsCodePro'].unique()"
   ]
  },
  {
   "cell_type": "markdown",
   "metadata": {},
   "source": [
    "Ta nên đưa 2 cột này về dạng số để có thể tiếp tục khám phá (tính min, median, max, ...)."
   ]
  },
  {
   "cell_type": "markdown",
   "metadata": {},
   "source": [
    "Hơn nữa, như bạn thấy, cột \"Age\" được phân loại thành các khoảng độ tuổi bao gồm:\n",
    "- Dưới 18 tuổi\n",
    "- Từ 18 đến 24 tuổi\n",
    "- Từ 25 đến 34 tuổi\n",
    "- Từ 35 đến 44 tuổi\n",
    "- Từ 45 đến 54 tuổi\n",
    "- Từ 55 đến 64 tuổi\n",
    "- Trên 65 tuổi\n",
    "- Không có dữ liệu (nan value)\n",
    "- Không muốn cho biết thông tin (Prefer not to say)\n",
    "\n",
    "Chúng ta cần mã hóa dữ liệu này về dạng số để có thể tiếp tục khám phá"
   ]
  },
  {
   "cell_type": "code",
   "execution_count": 25,
   "metadata": {},
   "outputs": [
    {
     "data": {
      "text/plain": [
       "array([nan, '25-34 years old', '35-44 years old', 'Under 18 years old',\n",
       "       '18-24 years old', '45-54 years old', '55-64 years old',\n",
       "       '65 years or older', 'Prefer not to say'], dtype=object)"
      ]
     },
     "execution_count": 25,
     "metadata": {},
     "output_type": "execute_result"
    }
   ],
   "source": [
    "survey_df['Age'].unique()"
   ]
  },
  {
   "cell_type": "markdown",
   "metadata": {},
   "source": [
    "## Tiền xử lý dữ liệu - Điểm: (0.5đ)"
   ]
  },
  {
   "cell_type": "markdown",
   "metadata": {},
   "source": [
    "Bạn sẽ thực hiện tiền xử lý để chuyển 2 cột \"YearsCode\" và \"YearsCodePro\" về dạng số (float). Trong đó: \"Less than 1 year\" $\\to$ 0, \"More than 50 years\" $\\to$ 51. Sau khi chuyển thì `survey_df.dtypes` sẽ thay đổi.\n",
    "\n",
    "Đối với cột \"Age\", bạn sẽ thực hiện tiền xử lý để chuyển cột này thành một kiểu dữ liệu có thể biểu diễn được khoảng độ tuổi\n",
    "- Dưới 18 tuổi: biểu diễn trong khoảng từ 0 đến 17\n",
    "- Từ 18 đến 24 tuổi: biểu diễn trong khoảng từ 18 đến 24\n",
    "- Từ 25 đến 34 tuổi: biểu diễn trong khoảng từ 25 đến 34\n",
    "- Từ 35 đến 44 tuổi: biểu diễn trong khoảng từ 35 đến 44\n",
    "- Từ 45 đến 54 tuổi: biểu diễn trong khoảng từ 45 đến 54\n",
    "- Từ 55 đến 64 tuổi: biểu diễn trong khoảng từ 55 đến 64\n",
    "- Trên 65 tuổi: biểu diễn bằng 65\n",
    "- Không có dữ liệu (nan value) và Không muốn cho biết thông tin (Prefer not to say): biểu diễn bằng NaN"
   ]
  },
  {
   "cell_type": "code",
   "execution_count": 73,
   "metadata": {},
   "outputs": [],
   "source": [
    "# # YOUR CODE HERE\n",
    "# raise NotImplementedError()\n",
    "\n",
    "survey_df['YearsCode'] = survey_df['YearsCode'].replace(['Less than 1 year'], 0)\n",
    "survey_df['YearsCode'] = survey_df['YearsCode'].replace(['More than 50 years'], 51)\n",
    "\n",
    "survey_df['YearsCodePro'] = survey_df['YearsCodePro'].replace(['Less than 1 year'], 0)\n",
    "survey_df['YearsCodePro'] = survey_df['YearsCodePro'].replace(['More than 50 years'], 51)\n",
    "\n",
    "survey_df['YearsCode'] = survey_df['YearsCode'].astype('float')\n",
    "survey_df['YearsCodePro'] = survey_df['YearsCodePro'].astype('float')"
   ]
  },
  {
   "cell_type": "code",
   "execution_count": 74,
   "metadata": {},
   "outputs": [],
   "source": [
    "# TEST\n",
    "assert survey_df['YearsCode'].dtype in [np.float32, np.float64]\n",
    "assert survey_df['YearsCodePro'].dtype in [np.float32, np.float64]"
   ]
  },
  {
   "cell_type": "code",
   "execution_count": 75,
   "metadata": {},
   "outputs": [],
   "source": [
    "# # YOUR CODE HERE\n",
    "# raise NotImplementedError()\n",
    "def transform_age(age_type):\n",
    "    if age_type == 'Under 18 years old' :\n",
    "        c = (0, 17)\n",
    "        return c\n",
    "    elif age_type == '18-24 years old' :\n",
    "        c = (18, 24)\n",
    "        return c\n",
    "    elif age_type == '25-34 years old' :\n",
    "        c = (25, 34)\n",
    "        return c\n",
    "    elif age_type == '35-44 years old' :\n",
    "        c = (35, 44)\n",
    "        return c\n",
    "    elif age_type == '45-54 years old' :\n",
    "        c = (45, 54)\n",
    "        return c\n",
    "    elif age_type == '55-64 years old' :\n",
    "        c = (55, 64)\n",
    "        return c\n",
    "    elif age_type == '65 years or older' :\n",
    "        c = (65, 100)\n",
    "        return c \n",
    "    elif age_type == 'Prefer not to say' :\n",
    "        c = (np.nan, np.nan)\n",
    "        return c \n",
    "    elif str(age_type) == 'nan' :\n",
    "        c = (np.nan, np.nan)\n",
    "        return (np.nan, np.nan)"
   ]
  },
  {
   "cell_type": "code",
   "execution_count": 76,
   "metadata": {},
   "outputs": [],
   "source": [
    "# TEST\n",
    "assert transform_age('45-54 years old') == (45, 54) or transform_age('45-54 years old') == [45, 54]\n",
    "assert transform_age('65 years or older') == (65, 100) or transform_age('65 years or older') == [65, 100]\n",
    "assert transform_age('Under 18 years old') == (0, 17) or transform_age('Under 18 years old') == [0, 17]\n",
    "assert transform_age('Prefer not to say') == (np.nan, np.nan) or transform_age('Prefer not to say') == [np.nan, np.nan]\n",
    "assert transform_age(np.nan) == (np.nan, np.nan) or transform_age(np.nan) == [np.nan, np.nan]"
   ]
  },
  {
   "cell_type": "code",
   "execution_count": 77,
   "metadata": {},
   "outputs": [],
   "source": [
    "# YOUR CODE HERE\n",
    "survey_df[\"Age\"] = survey_df[\"Age\"].apply(transform_age)"
   ]
  },
  {
   "cell_type": "markdown",
   "metadata": {},
   "source": [
    "## Quay lại bước khám phá dữ liệu "
   ]
  },
  {
   "cell_type": "markdown",
   "metadata": {},
   "source": [
    "### Với mỗi cột có kiểu dữ liệu dạng số, các giá trị được phân bố như thế nào? - Điểm: (1đ)\n",
    "\n",
    "(Trong đó: phần tính các mô tả của mỗi cột chiếm 0.5đ, phần tính số lượng giá trị không hợp lệ của mỗi cột chiếm 0.5đ)"
   ]
  },
  {
   "cell_type": "markdown",
   "metadata": {},
   "source": [
    "Với các cột có kiểu dữ liệu số, bạn sẽ tính:\n",
    "- Tỉ lệ % (từ 0 đến 100) các giá trị thiếu \n",
    "- Giá trị min\n",
    "- Giá trị lower quartile (phân vị 25)\n",
    "- Giá trị median (phân vị 50)\n",
    "- Giá trị upper quartile (phân vị 75)\n",
    "- Giá trị max\n",
    "\n",
    "Bạn sẽ lưu kết quả vào DataFrame `num_col_info_df`, trong đó: \n",
    "- Tên của các cột là tên của các cột số trong `survey_df`\n",
    "- Tên của các dòng là: \"missing_ratio\", \"min\", \"lower_quartile\", \"median\", \"upper_quartile\", \"max\"  \n",
    "\n",
    "Để dễ nhìn, tất cả các giá trị bạn đều làm tròn với 1 chữ số thập phân bằng phương thức `.round(1)`."
   ]
  },
  {
   "cell_type": "code",
   "execution_count": 78,
   "metadata": {},
   "outputs": [],
   "source": [
    "# # YOUR CODE HERE\n",
    "# raise NotImplementedError()\n",
    "col = [] \n",
    "for i in survey_df.columns: \n",
    "    if survey_df[i].dtype in [np.float32, np.float64] :\n",
    "        col.append([])\n",
    "\n",
    "def get_median(median, index, l, r):\n",
    "    ll = r - l\n",
    "    if ll % 2 != 0:\n",
    "        return(median[index + ll//2])\n",
    "    else:\n",
    "        return((median[index + ll//2 - 1] + median[index + ll//2]) / 2)\n",
    "\n",
    "len_col = len(survey_df[\"YearsCode\"])\n",
    "\n",
    "columee = []  \n",
    "count = -1\n",
    "for i in survey_df.columns:\n",
    "    missing_ratio = 0\n",
    "    median = []\n",
    "    minn = 1000000000\n",
    "    maxx = 0\n",
    "    if survey_df[i].dtype in [np.float32, np.float64] :\n",
    "        columee.append(i)\n",
    "        count += 1\n",
    "        for j in survey_df[i]: \n",
    "            if (str(j) == 'nan'):\n",
    "                missing_ratio += 1\n",
    "            if minn > j :\n",
    "                minn = j\n",
    "            if (str(j) != 'nan'):\n",
    "                median.append(j)\n",
    "            if maxx < j :\n",
    "                maxx = j\n",
    "\n",
    "        col[count].append(round(missing_ratio*100 / len_col, 1))\n",
    "        col[count].append(minn)\n",
    "\n",
    "        median = sorted(median)\n",
    "        ll = len(median) \n",
    "\n",
    "        mid = (0 + ll)//2\n",
    "        if ll % 2 != 0 : \n",
    "            col[count].append(get_median(median, 0, 0, int(mid)))\n",
    "        else:\n",
    "            col[count].append(get_median(median, 0, 0, int(mid)))\n",
    "\n",
    "        ll = len(median)\n",
    "        if ll % 2 != 0:\n",
    "            col[count].append(median[ll//2])\n",
    "        else:\n",
    "            col[count].append((median[ll//2 - 1] + median[ll//2]) / 2)\n",
    "\n",
    "        if ll % 2 != 0 : \n",
    "            col[count].append(get_median(median, int(mid) + 1, int(mid) + 1, int(ll) ))\n",
    "        else:\n",
    "            col[count].append(get_median(median, int(mid), int(mid), int(ll) ))\n",
    "\n",
    "        col[count].append(maxx)\n",
    "        \n",
    " \n",
    "num_col_info_df = pd.DataFrame()\n",
    "indexx = [\"missing_ratio\", \"min\", \"lower_quartile\", \"median\", \"upper_quartile\", \"max\"]\n",
    "num_col_info_df['indexx'] = indexx\n",
    "num_col_info_df = num_col_info_df.set_index('indexx')\n",
    "\n",
    "index_columee = 0\n",
    "for i in columee:\n",
    "    num_col_info_df[i] = col[index_columee]\n",
    "    index_columee += 1"
   ]
  },
  {
   "cell_type": "code",
   "execution_count": 79,
   "metadata": {},
   "outputs": [],
   "source": [
    "# TEST\n",
    "assert num_col_info_df.shape == (6, 5)\n",
    "data = num_col_info_df.loc[['missing_ratio', 'min', 'lower_quartile', 'median', 'upper_quartile', 'max'],\n",
    "                           ['WorkExp', 'CompTotal', 'ConvertedCompYearly', 'YearsCode', 'YearsCodePro']].values\n",
    "\n",
    "correct_data = np.array([[     49.8,      47.6,      48. ,       2.6,      29.3],\n",
    "                         [      0. ,       0. ,       1. ,       0. ,       0. ],\n",
    "                         [      4. ,   30000. ,   35832. ,       5. ,       4. ],\n",
    "                         [      8. ,   77500. ,   67845. ,       9. ,       7. ],\n",
    "                         [     15. ,  154000. ,  120000. ,      16. ,      14. ],\n",
    "                         [     50. ,    9e+56 ,50000000. ,      51. ,      51. ]])\n",
    "\n",
    "\n",
    "assert np.array_equal(data, correct_data)"
   ]
  },
  {
   "cell_type": "markdown",
   "metadata": {},
   "source": [
    "**Có giá trị không hợp lệ trong mỗi cột không? (không xét giá trị thiếu)**\n",
    "\n",
    "- Cột \"Age\": bạn hãy tính số lượng giá trị không hợp lệ của cột \"Age\" (khoảng độ tuổi Age < giá trị tương ứng trong cột \"YearsCode\" HOẶC < giá trị tương ứng trong cột \"YearsCodePro\") và lưu kết quả vào biến `num_invalid_Age_vals`.\n",
    "- Cột \"YearsCode\": bạn hãy tính số lượng giá trị không hợp lệ của cột \"YearsCode\" (< giá trị tương ứng trong cột \"YearsCodePro\" HOẶC > giá trị tương ứng trong cột \"Age\") và lưu kết quả vào biến `num_invalid_YearsCode`.\n",
    "- Cột \"YearsCodePro\": bạn hãy tính số lượng giá trị không hợp lệ của cột \"YearsCodePro\" (> giá trị tương ứng trong cột \"YearsCode\" HOẶC > giá trị khoảng độ tuổi Age tương ứng trong cột \"Age\") và lưu kết quả vào biến `num_invalid_YearsCodePro`."
   ]
  },
  {
   "cell_type": "code",
   "execution_count": 80,
   "metadata": {},
   "outputs": [],
   "source": [
    "# # YOUR CODE HERE\n",
    "# raise NotImplementedError()\n",
    "num_invalid_Age_vals = 0\n",
    "for i in range(1,shape[0] + 1):\n",
    "    if (survey_df['Age'][i][1] < survey_df['YearsCode'][i] or survey_df['Age'][i][1] < survey_df['YearsCodePro'][i]):\n",
    "        num_invalid_Age_vals += 1\n"
   ]
  },
  {
   "cell_type": "code",
   "execution_count": 81,
   "metadata": {},
   "outputs": [],
   "source": [
    "# # YOUR CODE HERE\n",
    "# raise NotImplementedError()\n",
    "num_invalid_YearsCode_vals = 0\n",
    "for i in range(1,shape[0] + 1):\n",
    "    if (survey_df['Age'][i][1] < survey_df['YearsCode'][i] or survey_df['YearsCodePro'][i] > survey_df['YearsCode'][i]):\n",
    "        num_invalid_YearsCode_vals += 1"
   ]
  },
  {
   "cell_type": "code",
   "execution_count": 82,
   "metadata": {},
   "outputs": [],
   "source": [
    "# # YOUR CODE HERE\n",
    "# raise NotImplementedError()\n",
    "num_invalid_YearsCodePro_vals = 0\n",
    "for i in range(1,shape[0] + 1):\n",
    "    if (survey_df['Age'][i][1] < survey_df['YearsCodePro'][i] or survey_df['YearsCodePro'][i] > survey_df['YearsCode'][i]):\n",
    "        num_invalid_YearsCodePro_vals += 1"
   ]
  },
  {
   "cell_type": "code",
   "execution_count": 83,
   "metadata": {},
   "outputs": [],
   "source": [
    "# TEST\n",
    "assert num_invalid_Age_vals == 15\n",
    "assert num_invalid_YearsCode_vals == 558\n",
    "assert num_invalid_YearsCodePro_vals == 548"
   ]
  },
  {
   "cell_type": "markdown",
   "metadata": {},
   "source": [
    "Do số lượng các giá trị không hợp lệ cũng khá ít nên ta có thể tiền xử lý bằng cách xóa các dòng chứa các giá trị không hợp lệ."
   ]
  },
  {
   "cell_type": "markdown",
   "metadata": {},
   "source": [
    "## Tiền xử lý - Điểm: (0.5đ)\n",
    "\n",
    "Bạn sẽ thực hiện tiền xử lý để xóa đi các dòng của DataFrame `survey_df` mà chứa ít nhất là một giá trị không hợp lệ. Sau khi tiền xử lý thì `survey_df` sẽ thay đổi. "
   ]
  },
  {
   "cell_type": "code",
   "execution_count": 84,
   "metadata": {},
   "outputs": [],
   "source": [
    "# # YOUR CODE HERE\n",
    "# raise NotImplementedError()\n",
    "check = 0\n",
    "for i in range(1,shape[0] + 1):\n",
    "    check = 0\n",
    "    if (survey_df['Age'][i][1] < survey_df['YearsCode'][i] or survey_df['Age'][i][1] < survey_df['YearsCodePro'][i]):\n",
    "        check += 1\n",
    "    elif (survey_df['Age'][i][1] < survey_df['YearsCode'][i] or survey_df['YearsCodePro'][i] > survey_df['YearsCode'][i]):\n",
    "        check += 1\n",
    "    elif (survey_df['Age'][i][1] < survey_df['YearsCodePro'][i] or survey_df['YearsCodePro'][i] > survey_df['YearsCode'][i]):\n",
    "        check +=1\n",
    "\n",
    "    if check != 0:\n",
    "        survey_df = survey_df.drop(labels=[i])"
   ]
  },
  {
   "cell_type": "code",
   "execution_count": 85,
   "metadata": {},
   "outputs": [],
   "source": [
    "# TEST\n",
    "assert len(survey_df) == 72710"
   ]
  },
  {
   "cell_type": "markdown",
   "metadata": {},
   "source": [
    "## Quay lại bước khám phá dữ liệu\n",
    "\n",
    "### Với mỗi cột có kiểu dữ liệu không phải dạng số, các giá trị được phân bố như thế nào? - Điểm: (1đ)\n",
    "\n",
    "Với các cột có kiểu dữ liệu không phải số, bạn sẽ tính:\n",
    "- Tỉ lệ % (từ 0 đến 100) các giá trị thiếu \n",
    "- Số lượng các giá trị (các giá trị ở đây là các giá trị khác nhau và ta không xét giá trị thiếu): với cột mà ứng với câu hỏi dạng multichoice (ví dụ, cột \"DevType\"), mỗi giá trị có thể chứa nhiều choice (các choice được phân tách bởi dấu chấm phẩy), và việc đếm trực tiếp các giá trị không có nhiều ý nghĩa lắm vì số lượng tổ hợp các choice là khá nhiều; một cách khác tốt hơn mà bạn sẽ làm là đếm số lượng các choice\n",
    "- Tỉ lệ % (từ 0 đến 100) của mỗi giá trị được sort theo tỉ lệ % giảm dần (ta không xét giá trị thiếu, tỉ lệ là tỉ lệ so với số lượng các giá trị không thiếu): bạn dùng dictionary để lưu, key là giá trị, value là tỉ lệ %; với cột mà ứng với câu hỏi dạng multichoice, cách làm tương tự như ở trên\n",
    "\n",
    "Bạn sẽ lưu kết quả vào DataFrame `cat_col_info_df`, trong đó: \n",
    "- Tên của các cột là tên của các cột không phải số trong `survey_df`\n",
    "- Tên của các dòng là: \"missing_ratio\", \"num_values\", \"value_ratios\"  \n",
    "\n",
    "Để dễ nhìn, tất cả các giá trị bạn đều làm tròn với 1 chữ số thập phân bằng phương thức `.round(1)`.\n",
    "\n",
    "Gợi ý: có thể bạn sẽ muốn dùng [phương thức `explode`](https://pandas.pydata.org/pandas-docs/stable/reference/api/pandas.Series.explode.html)."
   ]
  },
  {
   "cell_type": "code",
   "execution_count": null,
   "metadata": {
    "scrolled": true,
    "tags": []
   },
   "outputs": [],
   "source": [
    "survey_df.columns"
   ]
  },
  {
   "cell_type": "code",
   "execution_count": 87,
   "metadata": {},
   "outputs": [],
   "source": [
    "# Các cột ứng với câu hỏi khảo sát multichoice\n",
    "multichoice_cols = ['DevType', 'Gender',\n",
    "                    'LanguageHaveWorkedWith', 'LanguageWantToWorkWith', \n",
    "                    'DatabaseHaveWorkedWith', 'DatabaseWantToWorkWith', \n",
    "                    'PlatformHaveWorkedWith', 'PlatformWantToWorkWith',\n",
    "                    'WebframeHaveWorkedWith', 'WebframeWantToWorkWith',\n",
    "                    'MiscTechHaveWorkedWith', 'MiscTechWantToWorkWith', \n",
    "                    ]"
   ]
  },
  {
   "cell_type": "code",
   "execution_count": null,
   "metadata": {},
   "outputs": [],
   "source": [
    "pd.set_option('display.max_colwidth', 100) # Để dễ nhìn\n",
    "pd.set_option('display.max_columns', None) # Để dễ nhìn\n",
    "\n",
    "# # YOUR CODE HERE\n",
    "# raise NotImplementedError()\n",
    "col = [] \n",
    "for i in survey_df.columns: \n",
    "    if survey_df[i].dtype not in [np.float32, np.float64] :\n",
    "        col.append([])\n",
    "\n",
    "len_col = len(survey_df[\"DevType\"])\n",
    "\n",
    "count = -1\n",
    "used = []\n",
    "columee = []\n",
    "for i in survey_df.columns:\n",
    "    used.clear()\n",
    "    missing_ratio = 0\n",
    "    num_values = 0\n",
    "    if survey_df[i].dtype not in [np.float32, np.float64]:\n",
    "        columee.append(i)\n",
    "        count += 1\n",
    "        for j in survey_df[i]: \n",
    "            if (str(j) == 'nan'):\n",
    "                missing_ratio += 1\n",
    "\n",
    "        col[count].append(round(missing_ratio*100 / len_col, 1))\n",
    "\n",
    "        if i not in multichoice_cols:\n",
    "            for j in survey_df[i]: \n",
    "                if (str(j) != 'nan' and j not in used):\n",
    "                    used.append(j)\n",
    "                    num_values += 1\n",
    "            col[count].append(num_values)\n",
    "        else:\n",
    "            for j in survey_df[i]:\n",
    "                if (str(j) != 'nan'):\n",
    "                    tmp = j.split(';')\n",
    "                    for k in tmp:\n",
    "                        if (k not in used):\n",
    "                            used.append(k)\n",
    "                            num_values += 1\n",
    "            col[count].append(num_values)\n",
    "\n",
    "        dictCol = {}\n",
    "        count_key = 0\n",
    "        if i not in multichoice_cols:\n",
    "            for j in survey_df[i]: \n",
    "                if (str(j) != 'nan' and j not in dictCol):\n",
    "                    dictCol[j] = 1\n",
    "                    count_key += 1\n",
    "                elif str(j) != 'nan':\n",
    "                    dictCol[j] = dictCol[j] +1\n",
    "                    count_key += 1\n",
    "        else:\n",
    "            for j in survey_df[i]: \n",
    "                if (str(j) != 'nan'):\n",
    "                    tmp = j.split(';')\n",
    "                    for k in tmp:\n",
    "                        if (k not in dictCol):\n",
    "                            dictCol[k] = 1\n",
    "                            count_key += 1\n",
    "                        else:\n",
    "                            dictCol[k] = dictCol[k] +1\n",
    "                            count_key += 1\n",
    "        for j in dictCol:\n",
    "            dictCol[j] = round(dictCol[j]*100 / count_key, 1)\n",
    "\n",
    "        items_sorted = sorted(dictCol.items(),reverse=True, key = lambda x : x[1]) # sắp xếp từ điển giảm dần \n",
    "        dictCol_sort = {}\n",
    "        for i in items_sorted :\n",
    "            dictCol_sort[i[0]] = i[1]\n",
    "\n",
    "        col[count].append(dictCol)        \n",
    "\n",
    "cat_col_info_df = pd.DataFrame()\n",
    "indexx = [\"missing_ratio\", \"num_values\", \"value_ratios\"]\n",
    "cat_col_info_df['indexx'] = indexx\n",
    "cat_col_info_df = cat_col_info_df.set_index('indexx')\n",
    "\n",
    "index_columee = 0\n",
    "for i in columee:\n",
    "    cat_col_info_df[i] = col[index_columee]\n",
    "    index_columee += 1\n",
    "    \n",
    "cat_col_info_df"
   ]
  },
  {
   "cell_type": "code",
   "execution_count": 91,
   "metadata": {},
   "outputs": [],
   "source": [
    "# TEST\n",
    "c = cat_col_info_df['MainBranch']\n",
    "assert c.loc['missing_ratio'] == 0.0\n",
    "assert c.loc['num_values'] == 6\n",
    "assert c.loc['value_ratios']['I am a developer by profession'] == 72.9\n",
    "\n",
    "c = cat_col_info_df['DevType']\n",
    "assert c.loc['missing_ratio'] == 16.4\n",
    "assert c.loc['num_values'] == 29\n",
    "assert c.loc['value_ratios']['Academic researcher'] == 1.6\n",
    "\n",
    "c = cat_col_info_df['PlatformHaveWorkedWith']\n",
    "assert c.loc['missing_ratio'] == 31.9\n",
    "assert c.loc['num_values'] == 14\n",
    "assert c.loc['value_ratios']['DigitalOcean'] == 8.1"
   ]
  },
  {
   "cell_type": "markdown",
   "metadata": {},
   "source": [
    "## Đặt câu hỏi \n",
    "\n",
    "Sau khi khám phá dữ liệu, ta đã hiểu hơn về dữ liệu. Bây giờ, ta hãy xem thử có câu hỏi nào có thể được trả lời bằng dữ liệu này.\n",
    "\n",
    "**Một câu hỏi có thể có là:** Platform nào (Windows, Linux, Docker, AWS, ...) được yêu thích nhất, platform nào được yêu thích nhì, platform nào được yêu thích ba, ...?\n",
    "\n",
    "Một platform được xem là được yêu thích nếu một người đã dùng platform này (cột \"PlatformHaveWorkedWith\") và muốn tiếp tục dùng platform trong năm kế (cột \"PlatformWantToWorkWith\").\n",
    "\n",
    "**Trả lời được câu hỏi này sẽ** phần nào giúp ta định hướng là nên tập trung học platform nào để có thể chuẩn bị cho tương lai (mình nói \"phần nào\" vì ở đây dữ liệu chỉ giới hạn trong phạm vi những người làm khảo sát của StackOverflow)."
   ]
  },
  {
   "cell_type": "markdown",
   "metadata": {},
   "source": [
    "## Tiền xử lý\n",
    "\n",
    "Nếu bạn thấy cần thực hiện thêm thao tác tiền xử lý để chuẩn bị dữ liệu cho bước phân tích thì bạn làm ở đây. Bước này là không bắt buộc. "
   ]
  },
  {
   "cell_type": "code",
   "execution_count": 90,
   "metadata": {},
   "outputs": [],
   "source": [
    "# YOUR CODE HERE (OPTION) \n",
    "# tiền xử lý dữ liệu năm 2020 2021 tương tự như 2022\n",
    "survey_df_20 = pd.read_csv('data/2020/survey_results_public.csv') # form co phan khac \n",
    "survey_df_21 = pd.read_csv('data/2021/survey_results_public.csv')\n",
    "\n",
    "survey_df_20['YearsCode'] = survey_df_20['YearsCode'].replace(['Less than 1 year'], 0)\n",
    "survey_df_20['YearsCode'] = survey_df_20['YearsCode'].replace(['More than 50 years'], 51)\n",
    "\n",
    "survey_df_20['YearsCodePro'] = survey_df_20['YearsCodePro'].replace(['Less than 1 year'], 0)\n",
    "survey_df_20['YearsCodePro'] = survey_df_20['YearsCodePro'].replace(['More than 50 years'], 51)\n",
    "\n",
    "survey_df_20['YearsCode'] = survey_df_20['YearsCode'].astype('float')\n",
    "survey_df_20['YearsCodePro'] = survey_df_20['YearsCodePro'].astype('float')\n",
    "\n",
    "shape20 = survey_df_20.shape\n",
    "check = 0\n",
    "for i in range(shape20[0]):\n",
    "    check = 0\n",
    "    if (survey_df_20['Age'][i] < survey_df_20['YearsCode'][i] or survey_df_20['Age'][i] < survey_df_20['YearsCodePro'][i]):\n",
    "        check += 1\n",
    "    elif (survey_df_20['Age'][i] < survey_df_20['YearsCode'][i] or survey_df_20['YearsCodePro'][i] > survey_df_20['YearsCode'][i]):\n",
    "        check += 1\n",
    "    elif (survey_df_20['Age'][i] < survey_df_20['YearsCodePro'][i] or survey_df_20['YearsCodePro'][i] > survey_df_20['YearsCode'][i]):\n",
    "        check +=1\n",
    "\n",
    "    if check != 0:\n",
    "        survey_df_20 = survey_df_20.drop(labels=[i])\n",
    "\n",
    "#-------------------------------2021-----------------------------------\n",
    "infor = ['MainBranch', 'Country', 'Age', 'Gender', 'EdLevel', 'RemoteWork', 'DevType', 'LearnCodeCoursesCert', 'LanguageHaveWorkedWith', 'LanguageWantToWorkWith', \n",
    "'DatabaseHaveWorkedWith', 'DatabaseWantToWorkWith', 'PlatformHaveWorkedWith', 'PlatformWantToWorkWith', 'WebframeHaveWorkedWith', 'WebframeWantToWorkWith', 'MiscTechHaveWorkedWith',\n",
    " 'MiscTechWantToWorkWith', 'ToolsTechHaveWorkedWith', 'ToolsTechWantToWorkWith', 'NEWCollabToolsHaveWorkedWith', 'NEWCollabToolsWantToWorkWith', 'OpSysPersonal use', \n",
    " 'OfficeStackAsyncHaveWorkedWith', 'OfficeStackAsyncWantToWorkWith', 'Employment', 'WorkExp', 'CompTotal', 'CompFreq', 'YearsCode', 'YearsCodePro', 'ConvertedCompYearly',\n",
    " 'NEWSOSites', 'SOVisitFreq', 'SOAccount', 'SOPartFreq', 'SOComm']\n",
    "for i in survey_df_21.columns:\n",
    "    if i not in infor:\n",
    "        survey_df_21 = survey_df_21.drop(columns = i)\n",
    "\n",
    "survey_df_21['YearsCode'] = survey_df_21['YearsCode'].replace(['Less than 1 year'], 0)\n",
    "survey_df_21['YearsCode'] = survey_df_21['YearsCode'].replace(['More than 50 years'], 51)\n",
    "\n",
    "survey_df_21['YearsCodePro'] = survey_df_21['YearsCodePro'].replace(['Less than 1 year'], 0)\n",
    "survey_df_21['YearsCodePro'] = survey_df_21['YearsCodePro'].replace(['More than 50 years'], 51)\n",
    "\n",
    "survey_df_21['YearsCode'] = survey_df_21['YearsCode'].astype('float')\n",
    "survey_df_21['YearsCodePro'] = survey_df_21['YearsCodePro'].astype('float')\n",
    "\n",
    "survey_df_21[\"Age\"] = survey_df_21[\"Age\"].apply(transform_age)\n",
    "shape21 = survey_df_21.shape\n",
    "check = 0\n",
    "for i in range(shape21[0] ):\n",
    "    check = 0\n",
    "    if (survey_df_21['Age'][i][1] < survey_df_21['YearsCode'][i] or survey_df_21['Age'][i][1] < survey_df_21['YearsCodePro'][i]):\n",
    "        check += 1\n",
    "    elif (survey_df_21['Age'][i][1] < survey_df_21['YearsCode'][i] or survey_df_21['YearsCodePro'][i] > survey_df_21['YearsCode'][i]):\n",
    "        check += 1\n",
    "    elif (survey_df_21['Age'][i][1] < survey_df_21['YearsCodePro'][i] or survey_df_21['YearsCodePro'][i] > survey_df_21['YearsCode'][i]):\n",
    "        check +=1\n",
    "\n",
    "    if check != 0:\n",
    "        survey_df_21 = survey_df_21.drop(labels=[i])"
   ]
  },
  {
   "cell_type": "markdown",
   "metadata": {},
   "source": [
    "## Phân tích dữ liệu - Điểm: (2đ)\n",
    "\n",
    "Bây giờ, bạn sẽ thực hiện phân tích dữ liệu để trả lời cho câu hỏi ở trên. Cụ thể các bước như sau:\n",
    "- Bước 1: tính Series `most_loved_platforms`, trong đó: \n",
    "    - Index là tên flatform (ở bước khám phá dữ liệu, bạn đã thấy có tất cả 16 platform)\n",
    "    - Data là tỉ lệ % (từ 0 đến 100, được làm tròn với một chữ số thập phân bằng phương thức `round(1)`) được yêu thích (được sort giảm dần) \n",
    "- Bước 2: từ Series `most_loved_platforms`, bạn vẽ bar chart:\n",
    "    - Bạn cho các bar nằm ngang (cho dễ nhìn)\n",
    "    - Bạn đặt tên trục hoành là \"Tỉ lệ %\""
   ]
  },
  {
   "cell_type": "code",
   "execution_count": null,
   "metadata": {},
   "outputs": [],
   "source": [
    "# # YOUR CODE HERE\n",
    "# raise NotImplementedError()\n",
    "def mostLovedPlatforms(survey_df, work, wantWork): \n",
    "    len_col = len(survey_df[work])\n",
    "    Omegaa = 0\n",
    "    used = []\n",
    "    diction = {}\n",
    "    for i in survey_df.index:\n",
    "        if (str(survey_df[work][i]) != 'nan'):\n",
    "            used.clear()\n",
    "            tmp1 = survey_df[work][i].split(';')\n",
    "            for j in tmp1:\n",
    "                Omegaa += 1\n",
    "                if j not in used:\n",
    "                    used.append(j)\n",
    "                if j not in diction:\n",
    "                    diction[j] = 0\n",
    "            if (str(survey_df[wantWork][i]) != 'nan'):\n",
    "                tmp2 = survey_df[wantWork][i].split(';')\n",
    "                for j in tmp2:\n",
    "                    if j in used:\n",
    "                        if j in diction:\n",
    "                            diction[j] = diction[j] + 1\n",
    "                        else:\n",
    "                            diction[j] = 1\n",
    "\n",
    "    for j in diction:\n",
    "        diction[j] = round(diction[j]*100 / Omegaa, 1)\n",
    "\n",
    "    items_sorted = sorted(diction.items(),reverse=True, key = lambda x : x[1]) # sắp xếp giảm dần\n",
    "    diction_sort = {}\n",
    "    for i in items_sorted:\n",
    "        diction_sort[i[0]] = i[1]\n",
    "        \n",
    "    columee = []\n",
    "    for j in diction_sort:\n",
    "        columee.append(j)\n",
    "\n",
    "    percent = []\n",
    "    for j in diction_sort:\n",
    "        percent.append(diction_sort[j])\n",
    "\n",
    "    most_loved_platforms = pd.Series(percent, columee)\n",
    "    return most_loved_platforms, percent, columee\n",
    "\n",
    "td = mostLovedPlatforms(survey_df, \"PlatformHaveWorkedWith\", \"PlatformWantToWorkWith\")\n",
    "most_loved_platforms = td[0]\n",
    "most_loved_platforms"
   ]
  },
  {
   "cell_type": "code",
   "execution_count": null,
   "metadata": {},
   "outputs": [],
   "source": [
    "# # YOUR CODE HERE\n",
    "# raise NotImplementedError()\n",
    "x = td[2]\n",
    "y = td[1]\n",
    "plt.barh(x,y)\n",
    "plt.xlabel(\"percent\")\n",
    "plt.ylabel(\"Platform\")\n",
    "plt.title(\"Phần trăm yêu thích Platform\")\n",
    "plt.grid(True)\n",
    "plt.show()"
   ]
  },
  {
   "cell_type": "markdown",
   "metadata": {},
   "source": [
    "Có điều gì thay đổi trong hai năm vừa qua, các bạn hãy tìm hiểu bằng cách trực quan với các năm 2020, 2021 nhé!"
   ]
  },
  {
   "cell_type": "code",
   "execution_count": null,
   "metadata": {},
   "outputs": [],
   "source": [
    "# # YOUR CODE HERE\n",
    "# raise NotImplementedError()\n",
    "most_loved_platforms20 = mostLovedPlatforms(survey_df_20, \"PlatformWorkedWith\", \"PlatformDesireNextYear\")\n",
    "most_loved_platforms21 = mostLovedPlatforms(survey_df_21, \"PlatformHaveWorkedWith\", \"PlatformWantToWorkWith\")\n",
    "\n",
    "Platform = td[2].copy()\n",
    "# Platform = most_loved_platforms21[2].copy()\n",
    "col20 = most_loved_platforms20[2].copy()\n",
    "col21 = most_loved_platforms21[2].copy()\n",
    "col22 = td[2].copy()\n",
    "\n",
    "for i in col21:\n",
    "    if i not in Platform:\n",
    "        Platform.append(i)\n",
    "for i in col20:\n",
    "    if i not in Platform:\n",
    "        Platform.append(i)\n",
    "\n",
    "percent21 = []\n",
    "for i in Platform:\n",
    "    if i in col21:\n",
    "        percent21.append(most_loved_platforms21[0][i])\n",
    "    else:\n",
    "        percent21.append(0)\n",
    "\n",
    "percent20 = []\n",
    "for i in Platform:\n",
    "    if i in col20:\n",
    "        percent20.append(most_loved_platforms20[0][i])\n",
    "    else:\n",
    "        percent20.append(0)\n",
    "\n",
    "percent22 = []\n",
    "for i in Platform:\n",
    "    if i in col22:\n",
    "        percent22.append(td[0][i])\n",
    "    else:\n",
    "        percent22.append(0)\n",
    "\n",
    "x = np.array(Platform)\n",
    "y1 = np.array(percent20)\n",
    "y2 = np.array(percent21)\n",
    "y3 = np.array(percent22)\n",
    "\n",
    "\n",
    "index = np.arange(len(x))\n",
    "width = 0.3\n",
    "\n",
    "plt.barh(index, y1, width, color = 'red', label = 'Year 2020')\n",
    "plt.barh(index + width, y2, width, color = 'blue', label = 'Year 2021')\n",
    "plt.barh(index + 2*width, y3, width, color = 'green', label = 'Year 2022')\n",
    "\n",
    "plt.yticks(index + width, x)\n",
    "plt.legend([\"Year 2020\", \"Year 2021\", \"Year 2022\"])\n",
    "plt.xlabel(\"percent\")\n",
    "plt.ylabel(\"Platform\")\n",
    "plt.title(\"Tương quan 2020-2021-2022\")\n",
    "plt.grid(True)\n",
    "plt.show()\n",
    "\n"
   ]
  },
  {
   "cell_type": "markdown",
   "metadata": {},
   "source": [
    "## Đặt câu hỏi của bạn - Điểm: (1.5đ)\n",
    "\n",
    "Bây giờ, đến lượt bạn phải tự suy nghĩ và đưa ra câu hỏi mà có thể trả lời bằng dữ liệu. Ngoài việc đưa ra câu hỏi, bạn cũng phải giải thích để người đọc thấy nếu trả lời được câu hỏi thì sẽ có lợi ích gì. Bạn không nên đưa ra câu hỏi cùng dạng với câu hỏi của mình ở trên.  \n",
    "\n",
    "YOUR ANSWER HERE\n",
    "\n",
    "**Một câu hỏi có thể có là:** Database nào (Elasticsearch, MongoDB, Neo4j, PostgreSQL ...) được yêu thích nhất, database nào được yêu thích nhì, database nào được yêu thích ba, ...?\n",
    "\n",
    "Một database được xem là được yêu thích nếu một người đã dùng database này (cột \"DatabaseHaveWorkedWith\") và muốn tiếp tục dùng database trong năm kế (cột \"DatabaseWantToWorkWith\").\n",
    "\n",
    "**Trả lời được câu hỏi này sẽ** phần nào giúp ta định hướng là nên tập trung học database nào để có thể chuẩn bị cho tương lai (nói \"phần nào\" vì ở đây dữ liệu chỉ giới hạn trong phạm vi những người làm khảo sát của StackOverflow)."
   ]
  },
  {
   "cell_type": "markdown",
   "metadata": {},
   "source": [
    "## Tiền xử lý để chuẩn bị dữ liệu cho bước phân tích để trả lời cho câu hỏi của bạn\n",
    "\n",
    "Phần này là không bắt buộc. "
   ]
  },
  {
   "cell_type": "code",
   "execution_count": null,
   "metadata": {},
   "outputs": [],
   "source": [
    "# YOUR CODE HERE (OPTION) "
   ]
  },
  {
   "cell_type": "markdown",
   "metadata": {},
   "source": [
    "## Phân tích dữ liệu để ra câu trả lời cho câu hỏi của bạn - Điểm: (2đ)"
   ]
  },
  {
   "cell_type": "code",
   "execution_count": null,
   "metadata": {},
   "outputs": [],
   "source": [
    "# # YOUR CODE HERE\n",
    "# raise NotImplementedError()\n",
    "def mostLovedDatabase(survey_df, work, wantWork): \n",
    "    len_col = len(survey_df[work])\n",
    "    Omegaa = 0\n",
    "    used = []\n",
    "    diction = {}\n",
    "    for i in survey_df.index:\n",
    "        if (str(survey_df[work][i]) != 'nan'):\n",
    "            used.clear()\n",
    "            tmp1 = survey_df[work][i].split(';')\n",
    "            for j in tmp1:\n",
    "                Omegaa += 1\n",
    "                if j not in used:\n",
    "                    used.append(j)\n",
    "                if j not in diction:\n",
    "                    diction[j] = 0\n",
    "            if (str(survey_df[wantWork][i]) != 'nan'):\n",
    "                tmp2 = survey_df[wantWork][i].split(';')\n",
    "                for j in tmp2:\n",
    "                    if j in used:\n",
    "                        if j in diction:\n",
    "                            diction[j] = diction[j] + 1\n",
    "                        else:\n",
    "                            diction[j] = 1\n",
    "\n",
    "    for j in diction:\n",
    "        diction[j] = round(diction[j]*100 / Omegaa, 1)\n",
    "\n",
    "    items_sorted = sorted(diction.items(),reverse=True, key = lambda x : x[1]) # sắp xếp từ điển giảm dần\n",
    "    diction_sort = {}\n",
    "    for i in items_sorted:\n",
    "        diction_sort[i[0]] = i[1]\n",
    "        \n",
    "    columee = []\n",
    "    for j in diction_sort:\n",
    "        columee.append(j)\n",
    "\n",
    "    percent = []\n",
    "    for j in diction_sort:\n",
    "        percent.append(diction_sort[j])\n",
    "\n",
    "    most_loved_databases = pd.Series(percent, columee)\n",
    "    return most_loved_databases, percent, columee\n",
    "\n",
    "base22 = mostLovedDatabase(survey_df, \"DatabaseHaveWorkedWith\", \"DatabaseWantToWorkWith\")\n",
    "\n",
    "x = base22[2]\n",
    "y = base22[1]\n",
    "plt.barh(x,y)\n",
    "plt.xlabel(\"percent\")\n",
    "plt.ylabel(\"Platform\")\n",
    "plt.title(\"Phần trăm yêu thích Platform\")\n",
    "plt.grid(True)\n",
    "plt.show()"
   ]
  }
 ],
 "metadata": {
  "kernelspec": {
   "display_name": "Python 3.10.7 64-bit",
   "language": "python",
   "name": "python3"
  },
  "language_info": {
   "codemirror_mode": {
    "name": "ipython",
    "version": 3
   },
   "file_extension": ".py",
   "mimetype": "text/x-python",
   "name": "python",
   "nbconvert_exporter": "python",
   "pygments_lexer": "ipython3",
   "version": "3.10.7"
  },
  "vscode": {
   "interpreter": {
    "hash": "27f6fea6f47ae512550f0b8facdbd035a93e1dd89633f7bf2dd00a2502c71d0d"
   }
  }
 },
 "nbformat": 4,
 "nbformat_minor": 4
}
