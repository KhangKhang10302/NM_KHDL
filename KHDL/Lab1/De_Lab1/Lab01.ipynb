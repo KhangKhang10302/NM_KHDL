{
  "nbformat": 4,
  "nbformat_minor": 0,
  "metadata": {
    "colab": {
      "provenance": [],
      "collapsed_sections": []
    },
    "kernelspec": {
      "name": "python3",
      "display_name": "Python 3"
    },
    "language_info": {
      "name": "python"
    }
  },
  "cells": [
    {
      "cell_type": "markdown",
      "source": [
        "<h1><b>HW1: Thu thập và tiền xử lý dữ liệu</b></h1>\n",
        "\n",
        "Họ tên:\n",
        "\n",
        "MSSV: \n",
        "\n",
        "<hr />\n",
        "\n",
        "<h2><b>Cách làm và nộp bài</b></h2>\n",
        "<b>Cách làm bài</b>\n",
        "\n",
        "Các bạn sẽ làm trực tiếp trên file notebook này. Đầu tiên, bạn điền họ tên và MSSV của mình ở bên trên. Trong file, bạn sẽ làm ở những phần có ghi là:\n",
        "\n",
        "<i style=\"background-color:tomato\"><FONT COLOR=\"green\"># YOUR CODE HERE</FONT></i>\n",
        "\n",
        "<FONT COLOR=\"green\">raise</FONT> NotImplementedError()\n",
        "\n",
        "Tất nhiên, khi làm bạn sẽ xóa dòng <b>raise NotImplementedError()</b> đi. Đối với những phần yêu cầu làm thì thường ở ngay phía dưới sẽ có một (hoặc một số) cell chứa các bộ test để giúp bạn biết đã code đúng hay chưa. Nếu chạy cell này không có lỗi gì thì có nghĩa là qua được các bộ test và ngược lại, nếu không qua được test thì là code sai, nhưng nếu qua được test thì chưa chắc đã đúng.\n",
        "</br></br>\n",
        "Trong khi làm bài, bạn có thể cho in ra màn hình, tạo thêm các cell để test. Tuy nhiên, khi nộp bài thì code của các bạn sẽ được chạy lại, do đó phải xóa các cell mà bạn đã tạo ra trước đó đi. Ngoài ra, bạn lưu ý là tuyệt đối không được tự tiện xóa các cell hay sửa code của Thầy (trừ những chỗ được phép sửa như đã đề cập ở trên).\n",
        "</br></br>\n",
        "Trong khi làm bài, thương xuyên lưu lại bài của bạn để tránh mất mát thông tin. Ngoài ra, chúng ta cần hết sức lưu ý là việc đạo văn là bị nghiêm cấm và sẽ bị xử lý đối với các bài làm giống nhau. Mục tiêu chính của chúng ta là học một cách chân thật, các bạn có thể tham khảo ý tưởng từ bạn bè của bạn hay từ các nguồn tham khảo khác trên mạng. Tuy nhiên, phần bài làm cuối cùng vẫn phải là của bạn dựa trên những sự hiểu biết thực sự. Khi tham khảo các nguồn trên mạng thì bạn cũng nên ghi rõ nguồn đó trong bài làm của mình. <font color='red'>Trong trường hợp các bạn vi phạm những điều mình đã đề cập ở trên thì sẽ bị 0 điểm cho toàn bộ môn học này.</font>\n",
        "\n",
        "<h5><b>Cách nộp bài</h5></b>\n",
        "\n",
        "Khi chấm bài, mình sẽ chọn Kernel - Restart & Run All để chạy lại toàn bộ code của các bạn từ ban đầu trên google colab. Do đó, để đảm bảo code các bạn không bị lỗi, các bạn nên chạy thử như mình chạy để đảm bảo mọi thứ diễn ra như mong đợi. \n",
        "\n",
        "Sau đó, bạn tạo thư mục nộp bài theo các yêu cầu sau:\n",
        "* Đầu tiên, các bạn tạo một thư mục MSSV (vd, nếu bạn có MSSV là 123456 thì bạn đặt tên thư mục là 123456)\n",
        "* Trong thư mục, MSSV vừa tạo, bạn bỏ file notebook bài làm của bạn vào cùng với file project được tạo bởi thư viện scrapy (file project khi tạo này các bạn có thể đặt bất kỳ tên gì)\n",
        "* Cuối cùng, bạn nén thư mục MSSV này lại và nộp ở link trên moodle. Đuôi của file nén phải là .zip (chứ không được .rar hay gì khác).\n",
        "\n",
        "<font color='red'>Bạn lưu ý tuân thủ chính xác qui định nộp bài ở trên, nếu nộp sai quy định sẽ bị trừ nửa số điểm cho bài làm của mình.</font>\n",
        "</br></br>\n",
        "<hr />\n",
        "</br>\n",
        "<h2><b>Import</b></h2>\n",
        "\n",
        "Trong bài thực hành này vì dữ liệu thu thập của chúng ta sẽ rất lớn, nên mình sẽ giúp các bạn thu thập dữ liệu được nhanh chóng bằng cách sử dụng một thư viện có tên scrapy. Vì thư viện này không có sẵn nên các bạn cần cài đặt trước khi sử dụng."
      ],
      "metadata": {
        "id": "Du6rimrD4gbN"
      }
    },
    {
      "cell_type": "code",
      "source": [
        "!pip install scrapy\n",
        "!pip install spider3"
      ],
      "metadata": {
        "id": "7ZL9mrLkc3Dp"
      },
      "execution_count": null,
      "outputs": []
    },
    {
      "cell_type": "code",
      "source": [
        "import json\n",
        "import re\n",
        "import pandas as pd\n",
        "import scrapy\n",
        "from pandas.testing import assert_frame_equal # to compare two dataframes\n",
        "# YOUR CODE HERE (OPTION) \n",
        "# Nếu cần các thư viện khác thì bạn có thể import thêm tại đây"
      ],
      "metadata": {
        "id": "Nah1kqOV74Wk"
      },
      "execution_count": 3,
      "outputs": []
    },
    {
      "cell_type": "markdown",
      "source": [
        "Như bạn đã biết, World Cup là một giải bóng đá lớn nhất thế giới được tổ chức mỗi 4 năm 1 lần. Vì cuối tháng 11 này kỳ World Cup 2022 sẽ diễn ra, do đó ở Lab 1 này, chúng ta sẽ khởi động môn học bằng việc thu thập dữ liệu của các cầu thủ bóng đá. <b>SoFIFA</b> (https://sofifa.com/) là một trang web lưu trữ dữ liệu của các cầu thủ trong trò chơi bóng đá nổi tiếng FIFA 23 mà có các chỉ số phản ánh gần đúng với phong độ của các cầu thủ bóng đá ngoài đời. Trong phần này, nhiệm vụ đầu tiên của bạn là sẽ cần thu thập ID của các cầu thủ. Mình có check \"Terms of Service\" của SoFIFA thì không thấy có mục nào nói là cấm parse HTML, vì vậy với mục đích học thì chắc là không có vấn đề gì lớn, miễn là chương trình của bạn đừng \"hit\" trang web quá nhiều lần trong một khoảng thời gian ngắn thì sẽ không có vấn đề gì. \n",
        "</br></br>\n",
        "Công việc cụ thể của bạn ở phần đầu tiên này là sẽ cần viết class <b>collect_player_url()</b> ở bên dưới. Vì dữ liệu lúc sau các bạn cần thu thập sẽ rất lớn nên ở đây, chúng ta sẽ xài một thư viên có tên scrapy để có thể thu thập dữ liệu lớn được nhanh chóng hơn. Về cách sử dụng thư viện này thì bạn có thể tham khảo thêm tại trang web sau: https://docs.scrapy.org/en/latest/intro/tutorial.html.\n",
        "</br></br>\n",
        "<h2><b>Tạo một project mới với scrapy</b><h2>\n",
        "\n",
        "Để sử dụng thư viện scrapy sau khi cài đặt xong, các bạn sẽ gọi câu lệnh như bên dưới để bắt đầu tạo một project mới với scrapy với tên gọi là <b>\"fifa_crawler\"</b>."
      ],
      "metadata": {
        "id": "CADRNR64WnmB"
      }
    },
    {
      "cell_type": "code",
      "source": [
        "!scrapy startproject fifa_crawler"
      ],
      "metadata": {
        "id": "6ndHFd1lWnUj"
      },
      "execution_count": null,
      "outputs": []
    },
    {
      "cell_type": "code",
      "source": [
        "cd fifa_crawler/fifa_crawler"
      ],
      "metadata": {
        "id": "TyLNgVqWvt3Z"
      },
      "execution_count": null,
      "outputs": []
    },
    {
      "cell_type": "markdown",
      "source": [
        "Sau khi tạo xong project với scrapy, vì thu thập dữ liệu với thư viện này không cho phép xài notebook trực tiếp nên các bạn sau khi hoàn thành xong class <b>collect_player_url(scrapy.Spider)</b> ở bên dưới, các bạn cần tạo một file có tên <b>collect_players_urls.py</b> vào đường dẫn sau <b>fifa_crawler/fifa_crawler/spiders/collect_players_urls.py</b>. Ngoài ra, để tránh việc <b>hit</b> trang web quá nhiều lần, thay vì thu thập toàn bộ ID các cầu thủ của thì các bạn sẽ chỉ cần thu thập 720 ID cầu thủ. Để cho dễ dàng, mình đã để sẵn 1 đường dẫn urls chứa định dạng offset (từng trang của các cầu thủ với mỗi trang chứa 60 cầu thủ khác nhau) để các bạn có thể dễ dàng chuyển trang mới trong lúc thu thập."
      ],
      "metadata": {
        "id": "LtjRbH9NmmI8"
      }
    },
    {
      "cell_type": "code",
      "source": [
        "import scrapy\n",
        "\n",
        "class collect_player_url(scrapy.Spider):\n",
        "  name='players_urls' \n",
        "  \n",
        "  def start_requests(self):\n",
        "    urls = ['https://sofifa.com/players?col=oa&sort=desc&offset=0']\n",
        "    # YOUR CODE HERE\n",
        "    raise NotImplementedError()\n",
        "  \n",
        "  def parse(self, response):\n",
        "    # YOUR CODE HERE\n",
        "    raise NotImplementedError()"
      ],
      "metadata": {
        "id": "nsIYPdgWeJ0z"
      },
      "execution_count": null,
      "outputs": []
    },
    {
      "cell_type": "markdown",
      "source": [
        "Sau khi đã viết xong class trên, và đã tạo file <b>collect_players_urls.py</b> trong đường dẫn đã đề cập, bạn sẽ tiến hành gọi lệnh như bên dưới để thu thập ID của các cầu thủ bóng đá và lưu vào một file có tên <b>players_urls.json</b> mà chứa trong thư mục dataset. Thư mục dataset này bạn không cần tạo mà khi thu thập dữ liệu scrapy sẽ tự động tạo cho bạn."
      ],
      "metadata": {
        "id": "ShUFd8SmfCgf"
      }
    },
    {
      "cell_type": "code",
      "source": [
        "!scrapy crawl players_urls -o dataset/players_urls.json"
      ],
      "metadata": {
        "id": "kLoJ44s6e9NG"
      },
      "execution_count": null,
      "outputs": []
    },
    {
      "cell_type": "markdown",
      "source": [
        "Sau khi đã có danh sách 720 ID của các cầu thủ đã thu thập từ trang web SoFIFA, bạn sẽ tiến hành thu thập dữ liệu cụ thể của từng cầu thủ ứng với các ID này bằng cách hoàn thành class <b>collect_player_info(scrapy.Spider)</b> như bên dưới. Các bạn cũng lưu ý lại là như mình đã đề cập, việc sử dụng scrapy trực tiếp notebook là không được mà chúng ta sẽ cần tạo tiếp một file mới có tên <b>collect_players_info.py</b> vào cùng đường dẫn như file <b>collect_players_urls.py</b>. Ở đây, cũng để cho tiện thì mình cũng để cho các bạn 1 đường dẫn url mới với ID 231747 ứng với ID đầu tiên mà chúng ta đã thu thập ở bước trước. Nhiệm vụ của các bạn là dựa vào url này để tiếp tục hoàn thành việc parse HTML và thu thập các thông tin chi tiết của ID này (chúng ta cũng làm tương tự cho 719 ID còn lại). Về chi tiết tất cả các dữ liệu các bạn cần thu thập thì mình có để sẵn 1 file test có tên <b>players_info.json</b> là file đã được mình thu thập về thông tin chi tiết của 720 cầu thủ cho các bạn."
      ],
      "metadata": {
        "id": "caESkJGPopG9"
      }
    },
    {
      "cell_type": "code",
      "source": [
        "df_test = pd.read_json('/content/players_info.json', encoding='utf-8-sig')\n",
        "df_test.iloc[0]"
      ],
      "metadata": {
        "colab": {
          "base_uri": "https://localhost:8080/"
        },
        "id": "wHicINKmvDvC",
        "outputId": "e6693593-7eb2-44e4-d8e5-d38b0993ba83"
      },
      "execution_count": null,
      "outputs": [
        {
          "output_type": "execute_result",
          "data": {
            "text/plain": [
              "id                                                                     231747\n",
              "name                                                     Kylian Mbappé Lottin\n",
              "primary_position                                                           ST\n",
              "positions                                                            [ST, LW]\n",
              "age                                                                        23\n",
              "birth_date                                                        1998/Dec/20\n",
              "height                                                                    182\n",
              "weight                                                                     73\n",
              "Overall Rating                                                             91\n",
              "Potential                                                                  95\n",
              "Value                                                                 €190.5M\n",
              "Wage                                                                    €230K\n",
              "Preferred Foot                                                          Right\n",
              "Weak Foot                                                                   4\n",
              "Skill Moves                                                                 5\n",
              "International Reputation                                                    4\n",
              "Work Rate                                                           High/ Low\n",
              "Body Type                                                              Unique\n",
              "Real Face                                                                 Yes\n",
              "Release Clause                                                        €366.7M\n",
              "teams                             {' Paris Saint-Germain': 85, ' France': 85}\n",
              "attacking                   {'Crossing': 78, 'Finishing': 93, 'HeadingAccu...\n",
              "skill                       {'Dribbling': 93, 'Curve': 80, 'FKAccuracy': 6...\n",
              "movement                    {'Acceleration': 97, 'SprintSpeed': 97, 'Agili...\n",
              "power                       {'ShotPower': 88, 'Jumping': 77, 'Stamina': 87...\n",
              "mentality                   {'Aggression': 64, 'Interceptions': 38, 'Posit...\n",
              "defending                   {'DefensiveAwareness': 26, 'StandingTackle': 3...\n",
              "goalkeeping                 {'GKDiving': 13, 'GKHandling': 5, 'GKKicking':...\n",
              "player_traits               [Solid Player, Flair, Speed Dribbler (AI), Out...\n",
              "player_specialities         [#Speedster, #Dribbler, #Acrobat, #Clinical Fi...\n",
              "Name: 0, dtype: object"
            ]
          },
          "metadata": {},
          "execution_count": 7
        }
      ]
    },
    {
      "cell_type": "code",
      "source": [
        "import scrapy\n",
        "import json\n",
        "\n",
        "class collect_player_info(scrapy.Spider):\n",
        "  name='players_info'\n",
        "  \n",
        "  def __init__(self):\n",
        "    try:\n",
        "      with open('dataset/players_urls.json') as f:\n",
        "        self.players = json.load(f)\n",
        "      self.player_count = 1\n",
        "    except IOError:\n",
        "      print(\"File not found\")\n",
        "\n",
        "  def start_requests(self):\n",
        "    urls = ['https://sofifa.com/player/231747?units=mks']\n",
        "    # YOUR CODE HERE\n",
        "    raise NotImplementedError()\n",
        "  \n",
        "  def parse(self, response):\n",
        "      # YOUR CODE HERE\n",
        "      raise NotImplementedError()\n",
        "      \n",
        "      if self.player_count < len(self.players):\n",
        "        next_page_url = 'https://sofifa.com' + self.players[self.player_count]['player_url'] + '?units=mks'\n",
        "        self.player_count += 1\n",
        "        yield scrapy.Request(url=next_page_url, callback=self.parse) "
      ],
      "metadata": {
        "id": "7vHUkFitpbpv"
      },
      "execution_count": null,
      "outputs": []
    },
    {
      "cell_type": "markdown",
      "source": [
        "Sau khi đã hoàn thành class ở trên và lưu lại trong file <b>collect_players_info.py</b>, các bạn sẽ tiếp tục chạy câu lệnh bên dưới để thu thập thông tin chi tiết của toàn bộ 720 cầu thủ và xuất ra file <b>players_info.json</b> ở cùng đường dẫn dataset như trên."
      ],
      "metadata": {
        "id": "WMtk8cmuqnXm"
      }
    },
    {
      "cell_type": "code",
      "source": [
        "!scrapy crawl players_info -o dataset/players_info.json"
      ],
      "metadata": {
        "id": "ZeWsqMVMpNpW"
      },
      "execution_count": null,
      "outputs": []
    },
    {
      "cell_type": "markdown",
      "source": [
        "Sau khi đã có thông tin chi tiết của 720 cầu thủ, các bạn sẽ tiến hành đọc file <b>players_info.json</b> vào pandas với tên gọi <b>df_players_info</b> và kiểm tra lại với file của mình xem dữ liệu các bạn thu thập là khớp chưa. Nếu đã trùng khớp hai file thì bạn sẽ đến với bước tiền xử lý dữ liệu."
      ],
      "metadata": {
        "id": "swqaBClCrg39"
      }
    },
    {
      "cell_type": "code",
      "source": [
        "# YOUR CODE HERE\n",
        "raise NotImplementedError()\n",
        "\n",
        "assert_frame_equal(df_players_info, df_test)"
      ],
      "metadata": {
        "id": "vIzyLHd2rPwI"
      },
      "execution_count": null,
      "outputs": []
    },
    {
      "cell_type": "markdown",
      "source": [
        "<h2><b>Tiền xử lý dữ liệu</b></h2>\n",
        "\n",
        "<b>1)</b> Sau khi đã kiểm tra và khớp với dữ liệu từ file mình đã cung cấp, nhiệm vụ đầu tiên của các bạn trong bước tiền xử lý dữ liệu là cần phân tách các chỉ số cụ thể của mỗi cầu thủ. Như chúng ta thấy, ở mỗi cột <b>attacking, skill, movement</b> sẽ là một từ điển chứa chi tiết cụ thể từng chỉ số chi tiết ở trong đó. Do đó, chúng ta sẽ cần phân tách các từ điển này thành các cột cụ thể và nhiệm vụ khi này của bạn là hoàn thành hàm <b>split_players_info()</b> ở bên dưới rồi lưu lại vào một dataframe mới với tên <b>df_split_players_info</b>."
      ],
      "metadata": {
        "id": "crik-hTWt1RH"
      }
    },
    {
      "cell_type": "code",
      "source": [
        "def split_players_info():\n",
        "    # YOUR CODE HERE\n",
        "    raise NotImplementedError()\n",
        "    \n",
        "    return df_split_players_info"
      ],
      "metadata": {
        "id": "HFCvJ3r51ZHb"
      },
      "execution_count": null,
      "outputs": []
    },
    {
      "cell_type": "code",
      "source": [
        "# TEST\n",
        "df_split_players_info = split_players_info()\n",
        "df_split_players_info_test = pd.read_json('/content/split_players_info.json', encoding='utf-8-sig')\n",
        "assert_frame_equal(df_split_players_info.iloc[:, 23:], df_split_players_info_test.iloc[:, 23:])"
      ],
      "metadata": {
        "id": "Trd9o5bUEujU"
      },
      "execution_count": 9,
      "outputs": []
    },
    {
      "cell_type": "markdown",
      "source": [
        "<b>2)</b> Vì cột giá trị của cầu thủ (Value) và tiền lương (Wage) đang ở dạng viết tắt nên các bạn cần chuyển hai cột này về dạng số (float) bằng cách hoàn thành hàm <b>value_and_wage_to_float(col)</b>. Ví dụ, cầu thủ A có giá trị là €1M và tiền lương là €1K, hai cột này sau khi được tiền xử lý thì cầu thủ A sẽ có giá trị là 1000000.0 và tiền lương là 1000. Ngoài ra, bạn cần lưu ý kiểm tra các cột này có giá trị bị thiếu hay không, nếu có sẽ điền là 0.0 và ngược lại sẽ tiền xử lý như trên."
      ],
      "metadata": {
        "id": "VQtEUA263lFE"
      }
    },
    {
      "cell_type": "code",
      "source": [
        "def value_and_wage_to_float(col):\n",
        "    # YOUR CODE HERE\n",
        "    raise NotImplementedError()"
      ],
      "metadata": {
        "id": "-w1ySIhU3J_O"
      },
      "execution_count": null,
      "outputs": []
    },
    {
      "cell_type": "code",
      "source": [
        "# TEST\n",
        "assert df_split_players_info['Wage'].to_list()[:5] == [230000.0, 350000.0, 420000.0, 450000.0, 195000.0]\n",
        "assert df_split_players_info['Wage'].to_list()[-5:] == [41000.0, 21000.0, 59000.0, 15000.0, 50000.0]\n",
        "assert df_split_players_info['Value'].to_list()[:5] == [190500000.0, 107500000.0, 84000000.0, 64000000.0, 54000000.0]\n",
        "assert df_split_players_info['Value'].to_list()[-5:] == [32000000.0, 9500000.0, 19500000.0, 22000000.0, 20000000.0]"
      ],
      "metadata": {
        "id": "h6hcwHaZ4znE"
      },
      "execution_count": 17,
      "outputs": []
    },
    {
      "cell_type": "markdown",
      "source": [
        "<b>3)</b> Vì cột giá trị giải phóng hợp đồng (Release Clause) của cầu thủ đang ở dạng object, các bạn cần chuyển về dạng chuỗi và sau đó tiến hành tiền xử lý tương tự như hai cột <b>Value</b> và <b>Wage</b> ở trên bằng cách hoàn thành hàm <b>release_clause_to_float(col)</b>."
      ],
      "metadata": {
        "id": "HpUsosnEDJia"
      }
    },
    {
      "cell_type": "code",
      "source": [
        "import numpy as np\n",
        "\n",
        "def release_clause_to_float(col):\n",
        "    # YOUR CODE HERE\n",
        "    raise NotImplementedError()"
      ],
      "metadata": {
        "id": "nDExKO517OuE"
      },
      "execution_count": null,
      "outputs": []
    },
    {
      "cell_type": "code",
      "source": [
        "# TEST\n",
        "assert df_split_players_info['Release Clause'].to_list()[:5] == [366700000.0, 198900000.0, 172200000.0, 131199999.99999999, 99900000.0]\n",
        "assert df_split_players_info['Release Clause'].to_list()[-5:] == [0.0, 17100000.0, 38500000.0, 48400000.0, 35500000.0]"
      ],
      "metadata": {
        "id": "Hkj6nUcEFI8b"
      },
      "execution_count": 36,
      "outputs": []
    }
  ]
}