{
  "cells": [
    {
      "cell_type": "markdown",
      "metadata": {
        "id": "Du6rimrD4gbN"
      },
      "source": [
        "<h1><b>HW1: Thu thập và tiền xử lý dữ liệu</b></h1>\n",
        "\n",
        "Họ tên: Lê Nguyên Khang \n",
        "\n",
        "MSSV: 20120113\n",
        "\n",
        "<hr />\n",
        "\n",
        "<h2><b>Cách làm và nộp bài</b></h2>\n",
        "<b>Cách làm bài</b>\n",
        "\n",
        "Các bạn sẽ làm trực tiếp trên file notebook này. Đầu tiên, bạn điền họ tên và MSSV của mình ở bên trên. Trong file, bạn sẽ làm ở những phần có ghi là:\n",
        "\n",
        "<i style=\"background-color:tomato\"><FONT COLOR=\"green\"># YOUR CODE HERE</FONT></i>\n",
        "\n",
        "<FONT COLOR=\"green\">raise</FONT> NotImplementedError()\n",
        "\n",
        "Tất nhiên, khi làm bạn sẽ xóa dòng <b>raise NotImplementedError()</b> đi. Đối với những phần yêu cầu làm thì thường ở ngay phía dưới sẽ có một (hoặc một số) cell chứa các bộ test để giúp bạn biết đã code đúng hay chưa. Nếu chạy cell này không có lỗi gì thì có nghĩa là qua được các bộ test và ngược lại, nếu không qua được test thì là code sai, nhưng nếu qua được test thì chưa chắc đã đúng.\n",
        "</br></br>\n",
        "Trong khi làm bài, bạn có thể cho in ra màn hình, tạo thêm các cell để test. Tuy nhiên, khi nộp bài thì code của các bạn sẽ được chạy lại, do đó phải xóa các cell mà bạn đã tạo ra trước đó đi. Ngoài ra, bạn lưu ý là tuyệt đối không được tự tiện xóa các cell hay sửa code của Thầy (trừ những chỗ được phép sửa như đã đề cập ở trên).\n",
        "</br></br>\n",
        "Trong khi làm bài, thương xuyên lưu lại bài của bạn để tránh mất mát thông tin. Ngoài ra, chúng ta cần hết sức lưu ý là việc đạo văn là bị nghiêm cấm và sẽ bị xử lý đối với các bài làm giống nhau. Mục tiêu chính của chúng ta là học một cách chân thật, các bạn có thể tham khảo ý tưởng từ bạn bè của bạn hay từ các nguồn tham khảo khác trên mạng. Tuy nhiên, phần bài làm cuối cùng vẫn phải là của bạn dựa trên những sự hiểu biết thực sự. Khi tham khảo các nguồn trên mạng thì bạn cũng nên ghi rõ nguồn đó trong bài làm của mình. <font color='red'>Trong trường hợp các bạn vi phạm những điều mình đã đề cập ở trên thì sẽ bị 0 điểm cho toàn bộ môn học này.</font>\n",
        "\n",
        "<h5><b>Cách nộp bài</h5></b>\n",
        "\n",
        "Khi chấm bài, mình sẽ chọn Kernel - Restart & Run All để chạy lại toàn bộ code của các bạn từ ban đầu trên google colab. Do đó, để đảm bảo code các bạn không bị lỗi, các bạn nên chạy thử như mình chạy để đảm bảo mọi thứ diễn ra như mong đợi. \n",
        "\n",
        "Sau đó, bạn tạo thư mục nộp bài theo các yêu cầu sau:\n",
        "* Đầu tiên, các bạn tạo một thư mục MSSV (vd, nếu bạn có MSSV là 123456 thì bạn đặt tên thư mục là 123456)\n",
        "* Trong thư mục, MSSV vừa tạo, bạn bỏ file notebook bài làm của bạn vào cùng với file project được tạo bởi thư viện scrapy (file project khi tạo này các bạn có thể đặt bất kỳ tên gì)\n",
        "* Cuối cùng, bạn nén thư mục MSSV này lại và nộp ở link trên moodle. Đuôi của file nén phải là .zip (chứ không được .rar hay gì khác).\n",
        "\n",
        "<font color='red'>Bạn lưu ý tuân thủ chính xác qui định nộp bài ở trên, nếu nộp sai quy định sẽ bị trừ nửa số điểm cho bài làm của mình.</font>\n",
        "</br></br>\n",
        "<hr />\n",
        "</br>\n",
        "<h2><b>Import</b></h2>\n",
        "\n",
        "Trong bài thực hành này vì dữ liệu thu thập của chúng ta sẽ rất lớn, nên mình sẽ giúp các bạn thu thập dữ liệu được nhanh chóng bằng cách sử dụng một thư viện có tên scrapy. Vì thư viện này không có sẵn nên các bạn cần cài đặt trước khi sử dụng."
      ]
    },
    {
      "cell_type": "code",
      "execution_count": null,
      "metadata": {
        "id": "7ZL9mrLkc3Dp"
      },
      "outputs": [],
      "source": [
        "!pip install scrapy\n",
        "!pip install spider3"
      ]
    },
    {
      "cell_type": "code",
      "execution_count": 2,
      "metadata": {
        "id": "Nah1kqOV74Wk"
      },
      "outputs": [],
      "source": [
        "import json\n",
        "import re\n",
        "import pandas as pd\n",
        "import scrapy\n",
        "from pandas.testing import assert_frame_equal # to compare two dataframes\n",
        "# YOUR CODE HERE (OPTION) \n",
        "# Nếu cần các thư viện khác thì bạn có thể import thêm tại đây"
      ]
    },
    {
      "cell_type": "markdown",
      "metadata": {
        "id": "CADRNR64WnmB"
      },
      "source": [
        "Như bạn đã biết, World Cup là một giải bóng đá lớn nhất thế giới được tổ chức mỗi 4 năm 1 lần. Vì cuối tháng 11 này kỳ World Cup 2022 sẽ diễn ra, do đó ở Lab 1 này, chúng ta sẽ khởi động môn học bằng việc thu thập dữ liệu của các cầu thủ bóng đá. <b>SoFIFA</b> (https://sofifa.com/) là một trang web lưu trữ dữ liệu của các cầu thủ trong trò chơi bóng đá nổi tiếng FIFA 23 mà có các chỉ số phản ánh gần đúng với phong độ của các cầu thủ bóng đá ngoài đời. Trong phần này, nhiệm vụ đầu tiên của bạn là sẽ cần thu thập ID của các cầu thủ. Mình có check \"Terms of Service\" của SoFIFA thì không thấy có mục nào nói là cấm parse HTML, vì vậy với mục đích học thì chắc là không có vấn đề gì lớn, miễn là chương trình của bạn đừng \"hit\" trang web quá nhiều lần trong một khoảng thời gian ngắn thì sẽ không có vấn đề gì. \n",
        "</br></br>\n",
        "Công việc cụ thể của bạn ở phần đầu tiên này là sẽ cần viết class <b>collect_player_url()</b> ở bên dưới. Vì dữ liệu lúc sau các bạn cần thu thập sẽ rất lớn nên ở đây, chúng ta sẽ xài một thư viên có tên scrapy để có thể thu thập dữ liệu lớn được nhanh chóng hơn. Về cách sử dụng thư viện này thì bạn có thể tham khảo thêm tại trang web sau: https://docs.scrapy.org/en/latest/intro/tutorial.html.\n",
        "</br></br>\n",
        "<h2><b>Tạo một project mới với scrapy</b><h2>\n",
        "\n",
        "Để sử dụng thư viện scrapy sau khi cài đặt xong, các bạn sẽ gọi câu lệnh như bên dưới để bắt đầu tạo một project mới với scrapy với tên gọi là <b>\"fifa_crawler\"</b>."
      ]
    },
    {
      "cell_type": "code",
      "execution_count": null,
      "metadata": {
        "id": "6ndHFd1lWnUj"
      },
      "outputs": [],
      "source": [
        "!scrapy startproject fifa_crawler"
      ]
    },
    {
      "cell_type": "code",
      "execution_count": null,
      "metadata": {
        "id": "TyLNgVqWvt3Z"
      },
      "outputs": [],
      "source": [
        "cd fifa_crawler/fifa_crawler"
      ]
    },
    {
      "cell_type": "markdown",
      "metadata": {
        "id": "LtjRbH9NmmI8"
      },
      "source": [
        "Sau khi tạo xong project với scrapy, vì thu thập dữ liệu với thư viện này không cho phép xài notebook trực tiếp nên các bạn sau khi hoàn thành xong class <b>collect_player_url(scrapy.Spider)</b> ở bên dưới, các bạn cần tạo một file có tên <b>collect_players_urls.py</b> vào đường dẫn sau <b>fifa_crawler/fifa_crawler/spiders/collect_players_urls.py</b>. Ngoài ra, để tránh việc <b>hit</b> trang web quá nhiều lần, thay vì thu thập toàn bộ ID các cầu thủ của thì các bạn sẽ chỉ cần thu thập 720 ID cầu thủ. Để cho dễ dàng, mình đã để sẵn 1 đường dẫn urls chứa định dạng offset (từng trang của các cầu thủ với mỗi trang chứa 60 cầu thủ khác nhau) để các bạn có thể dễ dàng chuyển trang mới trong lúc thu thập."
      ]
    },
    {
      "cell_type": "code",
      "execution_count": 5,
      "metadata": {
        "id": "nsIYPdgWeJ0z"
      },
      "outputs": [],
      "source": [
        "import scrapy\n",
        "\n",
        "class collect_player_url(scrapy.Spider):\n",
        "    name = 'players_urls'\n",
        "    def start_requests(self):\n",
        "        urls = []\n",
        "        self.count = 0\n",
        "        urls = ['https://sofifa.com/players?col=oa&sort=desc&offset=0']\n",
        "        for url in urls:\n",
        "            yield scrapy.Request(url=url, callback=self.parse)\n",
        "\n",
        "\n",
        "    def parse(self, response):\n",
        "        players = response.xpath(\"//td[@class='col-avatar']//figure/img\")\n",
        "        for player in players :\n",
        "            id = player.xpath(\".//@id\").get()\n",
        "            player_url = \"/player/\" + id\n",
        "            yield {\n",
        "                'player_url': player_url,\n",
        "            }\n",
        "        if self.count < 660 :\n",
        "            self.count += 60\n",
        "            next_page_url = 'https://sofifa.com/players?col=oa&sort=desc&offset=' + str(self.count)\n",
        "            yield scrapy.Request(url=next_page_url, callback=self.parse)"
      ]
    },
    {
      "cell_type": "markdown",
      "metadata": {
        "id": "ShUFd8SmfCgf"
      },
      "source": [
        "Sau khi đã viết xong class trên, và đã tạo file <b>collect_players_urls.py</b> trong đường dẫn đã đề cập, bạn sẽ tiến hành gọi lệnh như bên dưới để thu thập ID của các cầu thủ bóng đá và lưu vào một file có tên <b>players_urls.json</b> mà chứa trong thư mục dataset. Thư mục dataset này bạn không cần tạo mà khi thu thập dữ liệu scrapy sẽ tự động tạo cho bạn."
      ]
    },
    {
      "cell_type": "code",
      "execution_count": null,
      "metadata": {
        "id": "kLoJ44s6e9NG"
      },
      "outputs": [],
      "source": [
        "!scrapy crawl players_urls -o dataset/players_urls.json"
      ]
    },
    {
      "cell_type": "markdown",
      "metadata": {
        "id": "caESkJGPopG9"
      },
      "source": [
        "Sau khi đã có danh sách 720 ID của các cầu thủ đã thu thập từ trang web SoFIFA, bạn sẽ tiến hành thu thập dữ liệu cụ thể của từng cầu thủ ứng với các ID này bằng cách hoàn thành class <b>collect_player_info(scrapy.Spider)</b> như bên dưới. Các bạn cũng lưu ý lại là như mình đã đề cập, việc sử dụng scrapy trực tiếp notebook là không được mà chúng ta sẽ cần tạo tiếp một file mới có tên <b>collect_players_info.py</b> vào cùng đường dẫn như file <b>collect_players_urls.py</b>. Ở đây, cũng để cho tiện thì mình cũng để cho các bạn 1 đường dẫn url mới với ID 231747 ứng với ID đầu tiên mà chúng ta đã thu thập ở bước trước. Nhiệm vụ của các bạn là dựa vào url này để tiếp tục hoàn thành việc parse HTML và thu thập các thông tin chi tiết của ID này (chúng ta cũng làm tương tự cho 719 ID còn lại). Về chi tiết tất cả các dữ liệu các bạn cần thu thập thì mình có để sẵn 1 file test có tên <b>players_info.json</b> là file đã được mình thu thập về thông tin chi tiết của 720 cầu thủ cho các bạn."
      ]
    },
    {
      "cell_type": "code",
      "execution_count": 21,
      "metadata": {
        "colab": {
          "base_uri": "https://localhost:8080/"
        },
        "id": "wHicINKmvDvC",
        "outputId": "e6693593-7eb2-44e4-d8e5-d38b0993ba83"
      },
      "outputs": [
        {
          "data": {
            "text/plain": [
              "id                                                                     231747\n",
              "name                                                     Kylian Mbappé Lottin\n",
              "primary_position                                                           ST\n",
              "positions                                                            [ST, LW]\n",
              "age                                                                        23\n",
              "birth_date                                                        1998/Dec/20\n",
              "height                                                                    182\n",
              "weight                                                                     73\n",
              "Overall Rating                                                             91\n",
              "Potential                                                                  95\n",
              "Value                                                                 €190.5M\n",
              "Wage                                                                    €230K\n",
              "Preferred Foot                                                          Right\n",
              "Weak Foot                                                                   4\n",
              "Skill Moves                                                                 5\n",
              "International Reputation                                                    4\n",
              "Work Rate                                                           High/ Low\n",
              "Body Type                                                              Unique\n",
              "Real Face                                                                 Yes\n",
              "Release Clause                                                        €366.7M\n",
              "teams                             {' Paris Saint-Germain': 85, ' France': 85}\n",
              "attacking                   {'Crossing': 78, 'Finishing': 93, 'HeadingAccu...\n",
              "skill                       {'Dribbling': 93, 'Curve': 80, 'FKAccuracy': 6...\n",
              "movement                    {'Acceleration': 97, 'SprintSpeed': 97, 'Agili...\n",
              "power                       {'ShotPower': 88, 'Jumping': 77, 'Stamina': 87...\n",
              "mentality                   {'Aggression': 64, 'Interceptions': 38, 'Posit...\n",
              "defending                   {'DefensiveAwareness': 26, 'StandingTackle': 3...\n",
              "goalkeeping                 {'GKDiving': 13, 'GKHandling': 5, 'GKKicking':...\n",
              "player_traits               [Solid Player, Flair, Speed Dribbler (AI), Out...\n",
              "player_specialities         [#Speedster, #Dribbler, #Acrobat, #Clinical Fi...\n",
              "Name: 0, dtype: object"
            ]
          },
          "execution_count": 21,
          "metadata": {},
          "output_type": "execute_result"
        }
      ],
      "source": [
        "df_test = pd.read_json('/content/players_info.json', encoding='utf-8-sig')\n",
        "df_test.iloc[0]"
      ]
    },
    {
      "cell_type": "code",
      "execution_count": null,
      "metadata": {
        "id": "7vHUkFitpbpv"
      },
      "outputs": [],
      "source": [
        "import scrapy\n",
        "import json\n",
        "\n",
        "class collect_player_info(scrapy.Spider):\n",
        "    name='players_info'\n",
        "    def __init__(self):\n",
        "        try:\n",
        "            with open('D:/KHDL/fifa_crawler/fifa_crawler/dataset/players_urls.json') as f:\n",
        "                self.players = json.load(f)\n",
        "            self.player_count = 1\n",
        "\n",
        "        except IOError:\n",
        "            print(\"File not found\")\n",
        "\n",
        "\n",
        "    def start_requests(self):\n",
        "        urls = ['https://sofifa.com/player/231747?units=mks']\n",
        "        for url in urls:\n",
        "            yield scrapy.Request(url=url, callback=self.parse)\n",
        "\n",
        "    def parse(self, response):\n",
        "        id = response.xpath(\"//li[9]/text()\").extract()\n",
        "        if id == []:\n",
        "            id = response.xpath(\"//li[8]/text()\").get()\n",
        "        else:\n",
        "            id = id[0]\n",
        "        name = response.xpath(\"//div[1]//div//h1/text()\").get()\n",
        "        primary_position = response.xpath(\"//div[3]//div//div[1]//ul//li[1]//span/text()\").get()\n",
        "        positions = response.xpath('//div[@class=\"info\"]//span/text()').extract()\n",
        "        # #-----------------------------\n",
        "        player_info = response.xpath(\"//div//div[@class='meta ellipsis']/text()\").extract()\n",
        "        player_info = [info for info in player_info if info != ' ']\n",
        "        str = player_info[0].split()\n",
        "        age = str[0].replace('y.o.', '')\n",
        "        month = str[1].replace('(', '')\n",
        "        day = (str[2].replace(',', ''))\n",
        "        year = (str[3].replace(')', ''))\n",
        "        height = int(str[4].replace('cm', ''))\n",
        "        weight = int(str[5].replace('kg', ''))\n",
        "        str = \"\"\n",
        "        str = year + '/' + month + '/' + day\n",
        "        # #-----------------------------\n",
        "        OP = response.xpath(\"//div[@class='block-quarter']//div//span[1]/text()\").re(r'[\\w ]+')\n",
        "        Overall_Rating = int(OP[0])\n",
        "        Potential = int(OP[1])\n",
        "\n",
        "        Value = response.xpath(\"//div[2]//div[1]//section//div[3]//div/text()\").get()\n",
        "        Wage = response.xpath(\"//div[2]//div[1]//section//div[4]//div/text()\").get()\n",
        "        Preferred_Foot = response.xpath(\"//div[2]//div//ul//li[1]/text()\").get()\n",
        "        Weak_Foot = int(response.xpath(\"//div[2]//div//ul//li[2]/text()\").get())\n",
        "        Skill_Moves = int(response.xpath(\"//div[2]//div//ul//li[3]/text()\").get())\n",
        "        International_Reputation = int(response.xpath(\"//div[2]//div//ul//li[4]/text()\").get())\n",
        "        Work_Rate = response.xpath(\"//div[2]//div//ul//li[5]//span/text()\").get()\n",
        "        Body_Type = response.xpath(\"//div[2]//div//ul//li[6]//span/text()\").get()\n",
        "        Real_Face = response.xpath(\"//div[2]//div//ul//li[7]//span/text()\").get()\n",
        "        Release_Clause = response.xpath(\"//div[2]//div//ul//li[8]//span/text()\").extract()\n",
        "        # # #-----------------------------\n",
        "        team1 = response.xpath(\"//div[2]//div[4]//div//h5//a/text()\").get()\n",
        "        team2 = int(response.xpath(\"//div[4]//div//ul//li[1]//span/text()\").get())\n",
        "        team3 = response.xpath(\"//div[5]//div//h5//a/text()\")\n",
        "        team4 = int(response.xpath(\"//div[5]//div//ul//li[1]//span/text()\").get())\n",
        "        if team3 == []:\n",
        "            teams = {team1:team2}\n",
        "        else:\n",
        "            teams = {team1:team2, team3.get():team4}\n",
        "        # #-----------------------------\n",
        "        at1 = response.xpath(\"//div[2]//div[3]//div//ul//li//span/text()\").extract()\n",
        "        attacking = {}\n",
        "        ii = 0\n",
        "        while(ii <= len(at1)-1):\n",
        "            if at1[ii+1][0] == '+' or at1[ii+1][0] == '-':\n",
        "                attacking.update( {at1[ii+2].replace(' ', ''):int(at1[ii])} )\n",
        "                ii += 3\n",
        "            else:\n",
        "                attacking.update( {at1[ii+1].replace(' ', ''):int(at1[ii])} )\n",
        "                ii += 2\n",
        "\n",
        "        sk = response.xpath(\"//div[2]//div[4]//div//ul//li//span/text()\").extract()\n",
        "        skill = {}\n",
        "        ii = 2\n",
        "        while(ii <= len(sk)-1):\n",
        "            if sk[ii+1][0] == '+' or sk[ii+1][0] == '-':\n",
        "                skill.update( {sk[ii+2].replace(' ', ''):int(sk[ii])} )\n",
        "                ii += 3\n",
        "            else:\n",
        "                skill.update( {sk[ii+1].replace(' ', ''):int(sk[ii])} )\n",
        "                ii += 2\n",
        "        \n",
        "        mo = response.xpath(\"//div[2]//div[5]//div//ul//li//span/text()\").extract()\n",
        "        if team3 == []:\n",
        "            ii = 0\n",
        "        else:\n",
        "            ii = 2\n",
        "\n",
        "        movement = {}\n",
        "        while(ii <= len(mo)-1):\n",
        "            if mo[ii+1][0] == '+' or mo[ii+1][0] == '-':\n",
        "                movement.update( {mo[ii+2].replace(' ', ''):int(mo[ii])} )\n",
        "                ii += 3\n",
        "            else:\n",
        "                movement.update( {mo[ii+1].replace(' ', ''):int(mo[ii])} )\n",
        "                ii += 2\n",
        "\n",
        "        po = response.xpath(\"//div[6]//div//ul//li//span/text()\").extract()\n",
        "        power = {}\n",
        "        ii = 0\n",
        "        while(ii <= len(po)-1):\n",
        "            if po[ii+1][0] == '+' or po[ii+1][0] == '-':\n",
        "                power.update( {po[ii+2].replace(' ', ''):int(po[ii])} )\n",
        "                ii += 3\n",
        "            else:\n",
        "                power.update( {po[ii+1].replace(' ', ''):int(po[ii])} )\n",
        "                ii += 2\n",
        "\n",
        "        men = response.xpath(\"//div[7]//div//ul//li//span/text()\").extract()\n",
        "        mentality = {}\n",
        "        ii = 0\n",
        "        while(ii <= len(men)-1):\n",
        "            if men[ii+1][0] == '+' or men[ii+1][0] == '-':\n",
        "                mentality.update( {men[ii+2].replace(' ', ''):int(men[ii])} )\n",
        "                ii += 3\n",
        "            else:\n",
        "                mentality.update( {men[ii+1].replace(' ', ''):int(men[ii])} )\n",
        "                ii += 2\n",
        "\n",
        "        de = response.xpath(\"//div[8]//div//ul//li//span/text()\").extract()\n",
        "        defending = {}\n",
        "        ii = 0\n",
        "        while(ii <= len(de)-1):\n",
        "            if de[ii+1][0] == '+' or de[ii+1][0] == '-':\n",
        "                defending.update( {de[ii+2].replace(' ', ''):int(de[ii])} )\n",
        "                ii += 3\n",
        "            else:\n",
        "                defending.update( {de[ii+1].replace(' ', ''):int(de[ii])} )\n",
        "                ii += 2\n",
        "\n",
        "        go = response.xpath(\"//div[9]//div//ul//li//span/text()\").extract()\n",
        "        goalkeeping = {}\n",
        "        ii = 0\n",
        "        while(ii <= len(go)-1):\n",
        "            if go[ii+1][0] == '+' or go[ii+1][0] == '-':\n",
        "                goalkeeping.update( {go[ii+2].replace(' ', ''):int(go[ii])} )\n",
        "                ii += 3\n",
        "            else:\n",
        "                goalkeeping.update( {go[ii+1].replace(' ', ''):int(go[ii])} )\n",
        "                ii += 2\n",
        "\n",
        "        # #-----------------------------\n",
        "        player_traits = response.xpath(\"//div[10]//div//ul//li//span/text()\").extract()\n",
        "        player_specialities = response.xpath(\"//div[3]//div//ul//li//a/text()\").extract()\n",
        "        if Release_Clause != []:\n",
        "            yield {\n",
        "                'id': id,\n",
        "                'name': name,\n",
        "                'primary_position': primary_position,\n",
        "                'positions': positions,\n",
        "                'age': age,\n",
        "                'birth_date': str, \n",
        "                'height': height,\n",
        "                'weight': weight,\n",
        "                'Overall Rating': Overall_Rating,\n",
        "                'Potential': Potential,\n",
        "                'Value': Value,\n",
        "                'Wage': Wage,\n",
        "                'Preferred Foot': Preferred_Foot,\n",
        "                'Weak Foot': Weak_Foot,\n",
        "                'Skill Moves': Skill_Moves,\n",
        "                'International Reputation': International_Reputation,\n",
        "                'Work Rate': Work_Rate,\n",
        "                'Body Type': Body_Type,\n",
        "                'Real Face': Real_Face,\n",
        "                'Release Clause': Release_Clause[0],\n",
        "                'teams': teams,\n",
        "                'attacking': attacking,\n",
        "                'skill': skill,\n",
        "                'movement': movement,\n",
        "                'power': power,\n",
        "                'mentality': mentality,\n",
        "                'defending': defending,\n",
        "                'goalkeeping':goalkeeping,\n",
        "                'player_traits': player_traits,\n",
        "                'player_specialities': player_specialities,\n",
        "        }\n",
        "        else:\n",
        "            yield {\n",
        "                'id': id,\n",
        "                'name': name,\n",
        "                'primary_position': primary_position,\n",
        "                'positions': positions,\n",
        "                'age': age,\n",
        "                'birth_date': str, \n",
        "                'height': height,\n",
        "                'weight': weight,\n",
        "                'Overall Rating': Overall_Rating,\n",
        "                'Potential': Potential,\n",
        "                'Value': Value,\n",
        "                'Wage': Wage,\n",
        "                'Preferred Foot': Preferred_Foot,\n",
        "                'Weak Foot': Weak_Foot,\n",
        "                'Skill Moves': Skill_Moves,\n",
        "                'International Reputation': International_Reputation,\n",
        "                'Work Rate': Work_Rate,\n",
        "                'Body Type': Body_Type,\n",
        "                'Real Face': Real_Face,\n",
        "                'teams': teams,\n",
        "                'attacking': attacking,\n",
        "                'skill': skill,\n",
        "                'movement': movement,\n",
        "                'power': power,\n",
        "                'mentality': mentality,\n",
        "                'defending': defending,\n",
        "                'goalkeeping':goalkeeping,\n",
        "                'player_traits': player_traits,\n",
        "                'player_specialities': player_specialities,\n",
        "            }\n",
        "        if self.player_count < len(self.players):\n",
        "            next_page_url = 'https://sofifa.com' + self.players[self.player_count]['player_url'] + '?units=mks'\n",
        "            self.player_count += 1\n",
        "            yield scrapy.Request(url=next_page_url, callback=self.parse) \n",
        "    "
      ]
    },
    {
      "cell_type": "markdown",
      "metadata": {
        "id": "WMtk8cmuqnXm"
      },
      "source": [
        "Sau khi đã hoàn thành class ở trên và lưu lại trong file <b>collect_players_info.py</b>, các bạn sẽ tiếp tục chạy câu lệnh bên dưới để thu thập thông tin chi tiết của toàn bộ 720 cầu thủ và xuất ra file <b>players_info.json</b> ở cùng đường dẫn dataset như trên."
      ]
    },
    {
      "cell_type": "code",
      "execution_count": null,
      "metadata": {
        "id": "ZeWsqMVMpNpW"
      },
      "outputs": [],
      "source": [
        "!scrapy crawl players_info -o dataset/players_info.json"
      ]
    },
    {
      "cell_type": "markdown",
      "metadata": {
        "id": "swqaBClCrg39"
      },
      "source": [
        "Sau khi đã có thông tin chi tiết của 720 cầu thủ, các bạn sẽ tiến hành đọc file <b>players_info.json</b> vào pandas với tên gọi <b>df_players_info</b> và kiểm tra lại với file của mình xem dữ liệu các bạn thu thập là khớp chưa. Nếu đã trùng khớp hai file thì bạn sẽ đến với bước tiền xử lý dữ liệu."
      ]
    },
    {
      "cell_type": "code",
      "execution_count": 22,
      "metadata": {
        "id": "vIzyLHd2rPwI"
      },
      "outputs": [],
      "source": [
        "import pandas as pd \n",
        "\n",
        "def assert_frame_equal(df_players_info, df_test):\n",
        "    col = [ 'id', 'name', 'primary_position', 'positions', 'age', 'birth_date', 'height', 'weight', 'Overall Rating', 'Potential',\n",
        "     'Value', 'Wage', 'Preferred Foot', 'Weak Foot', 'Skill Moves', 'International Reputation', 'Work Rate', 'Body Type','Real Face', \n",
        "     'Release Clause', 'teams', 'attacking', 'skill', 'movement', 'power', 'mentality', 'defending', 'goalkeeping', 'player_traits', \n",
        "     'player_specialities']\n",
        "\n",
        "    for i in range(min(len(df_players_info), len(df_test))):\n",
        "        for j in col:\n",
        "            if (df_players_info[j][i] != df_test[j][i] and str(df_test[j][i]) != \"nan\" and str(df_players_info[j][i])!=\"nan\" ):\n",
        "                print(i, j) # Dong va phan tu khac nhau\n",
        "                return False\n",
        "\n",
        "    return True\n"
      ]
    },
    {
      "cell_type": "markdown",
      "metadata": {
        "id": "crik-hTWt1RH"
      },
      "source": [
        "<h2><b>Tiền xử lý dữ liệu</b></h2>\n",
        "\n",
        "<b>1)</b> Sau khi đã kiểm tra và khớp với dữ liệu từ file mình đã cung cấp, nhiệm vụ đầu tiên của các bạn trong bước tiền xử lý dữ liệu là cần phân tách các chỉ số cụ thể của mỗi cầu thủ. Như chúng ta thấy, ở mỗi cột <b>attacking, skill, movement</b> sẽ là một từ điển chứa chi tiết cụ thể từng chỉ số chi tiết ở trong đó. Do đó, chúng ta sẽ cần phân tách các từ điển này thành các cột cụ thể và nhiệm vụ khi này của bạn là hoàn thành hàm <b>split_players_info()</b> ở bên dưới rồi lưu lại vào một dataframe mới với tên <b>df_split_players_info</b>."
      ]
    },
    {
      "cell_type": "code",
      "execution_count": 23,
      "metadata": {
        "id": "HFCvJ3r51ZHb"
      },
      "outputs": [],
      "source": [
        "def split_players_info():\n",
        "    df_split_players_info = pd.DataFrame()\n",
        "    \n",
        "    col = ['id', 'name', 'primary_position', 'positions', 'age', 'birth_date', 'height', 'weight', 'Overall Rating', 'Potential',\n",
        "     'Value', 'Wage', 'Preferred Foot', 'Weak Foot', 'Skill Moves', 'International Reputation', 'Work Rate', 'Body Type','Real Face', \n",
        "     'Release Clause', 'teams', 'attacking', 'skill', 'movement', 'power',\n",
        "    'mentality', 'defending', 'goalkeeping', 'player_traits', 'player_specialities']\n",
        "\n",
        "    for i in col:\n",
        "        df_split_players_info[i] = df_test[i][:len(df_test)]\n",
        "    \n",
        "    coll = [ 'attacking', 'skill', 'movement', 'power','mentality', 'defending', 'goalkeeping']\n",
        "    for j in coll: \n",
        "        index =  df_test[j][0]\n",
        "        for k in index :\n",
        "            cros = []\n",
        "            for i in range(len(df_test)):\n",
        "                cros.append(df_test[j][i][k])\n",
        "            \n",
        "            df_split_players_info[k] = cros\n",
        "\n",
        "    df_split_players_info = df_split_players_info.drop(columns=['attacking', 'skill', 'movement', 'power', 'mentality', 'defending', 'goalkeeping'],axis=1)\n",
        "    return df_split_players_info\n"
      ]
    },
    {
      "cell_type": "code",
      "execution_count": null,
      "metadata": {
        "id": "Trd9o5bUEujU"
      },
      "outputs": [],
      "source": [
        "# TEST\n",
        "df_split_players_info = split_players_info()\n",
        "df_split_players_info_test = pd.read_json('/content/split_players_info.json', encoding='utf-8-sig')\n",
        "assert_frame_equal(df_split_players_info.iloc[:, 23:], df_split_players_info_test.iloc[:, 23:])"
      ]
    },
    {
      "cell_type": "markdown",
      "metadata": {
        "id": "VQtEUA263lFE"
      },
      "source": [
        "<b>2)</b> Vì cột giá trị của cầu thủ (Value) và tiền lương (Wage) đang ở dạng viết tắt nên các bạn cần chuyển hai cột này về dạng số (float) bằng cách hoàn thành hàm <b>value_and_wage_to_float(col)</b>. Ví dụ, cầu thủ A có giá trị là €1M và tiền lương là €1K, hai cột này sau khi được tiền xử lý thì cầu thủ A sẽ có giá trị là 1000000.0 và tiền lương là 1000. Ngoài ra, bạn cần lưu ý kiểm tra các cột này có giá trị bị thiếu hay không, nếu có sẽ điền là 0.0 và ngược lại sẽ tiền xử lý như trên."
      ]
    },
    {
      "cell_type": "code",
      "execution_count": 25,
      "metadata": {
        "id": "-w1ySIhU3J_O"
      },
      "outputs": [],
      "source": [
        "def value_and_wage_to_float(col):\n",
        "    col_wage = []\n",
        "    for i in col['Wage']:\n",
        "        if (str(i) != \"nan\"):\n",
        "            wage = i.replace('€', '')\n",
        "            wage = wage.replace('K', '')\n",
        "            ww = float(wage) *1000\n",
        "            col_wage.append(ww)\n",
        "        else:\n",
        "            col_wage.append(0.0)\n",
        "    df_split_players_info['Wage'] = col_wage\n",
        "\n",
        "    col_value = []\n",
        "    for i in col['Value']:\n",
        "        if (str(i) != \"nan\"):\n",
        "            value = i.replace('€', '')\n",
        "            value = value.replace('M', '')\n",
        "            vv = float(value) *1000000\n",
        "            col_value.append(vv)\n",
        "        else:\n",
        "            col_value.append(0.0)\n",
        "    df_split_players_info['Value'] = col_value\n",
        "\n",
        "\n",
        "df_split_players_info = pd.DataFrame()\n",
        "df_split_players_info=split_players_info()\n",
        "value_and_wage_to_float(df_split_players_info)"
      ]
    },
    {
      "cell_type": "code",
      "execution_count": 14,
      "metadata": {
        "id": "h6hcwHaZ4znE"
      },
      "outputs": [],
      "source": [
        "# TEST\n",
        "assert df_split_players_info['Wage'].to_list()[:5] == [230000.0, 350000.0, 420000.0, 450000.0, 195000.0]\n",
        "assert df_split_players_info['Wage'].to_list()[-5:] == [41000.0, 21000.0, 59000.0, 15000.0, 50000.0]\n",
        "assert df_split_players_info['Value'].to_list()[:5] == [190500000.0, 107500000.0, 84000000.0, 64000000.0, 54000000.0]\n",
        "assert df_split_players_info['Value'].to_list()[-5:] == [32000000.0, 9500000.0, 19500000.0, 22000000.0, 20000000.0]"
      ]
    },
    {
      "cell_type": "markdown",
      "metadata": {
        "id": "HpUsosnEDJia"
      },
      "source": [
        "<b>3)</b> Vì cột giá trị giải phóng hợp đồng (Release Clause) của cầu thủ đang ở dạng object, các bạn cần chuyển về dạng chuỗi và sau đó tiến hành tiền xử lý tương tự như hai cột <b>Value</b> và <b>Wage</b> ở trên bằng cách hoàn thành hàm <b>release_clause_to_float(col)</b>."
      ]
    },
    {
      "cell_type": "code",
      "execution_count": 15,
      "metadata": {
        "id": "nDExKO517OuE"
      },
      "outputs": [],
      "source": [
        "import numpy as np\n",
        "\n",
        "def release_clause_to_float(col):\n",
        "    col_rc = []\n",
        "    for i in col:\n",
        "        if (str(i) != \"nan\"):\n",
        "            rc = i.replace('€', '')\n",
        "            rc = rc.replace('M', '')\n",
        "            ww = float(rc) *1000000\n",
        "            col_rc.append(ww)\n",
        "        else:\n",
        "            col_rc.append(0.0)\n",
        "    df_split_players_info['Release Clause'] = col_rc\n",
        "\n",
        "df_split_players_info = pd.DataFrame()\n",
        "dd = split_players_info()\n",
        "release_clause_to_float(dd['Release Clause'])"
      ]
    },
    {
      "cell_type": "code",
      "execution_count": null,
      "metadata": {
        "id": "Hkj6nUcEFI8b"
      },
      "outputs": [],
      "source": [
        "# TEST\n",
        "assert df_split_players_info['Release Clause'].to_list()[:5] == [366700000.0, 198900000.0, 172200000.0, 131199999.99999999, 99900000.0]\n",
        "assert df_split_players_info['Release Clause'].to_list()[-5:] == [0.0, 17100000.0, 38500000.0, 48400000.0, 35500000.0]\n",
        "print(df_split_players_info['Release Clause'].to_list()[:5])"
      ]
    }
  ],
  "metadata": {
    "colab": {
      "collapsed_sections": [],
      "provenance": []
    },
    "kernelspec": {
      "display_name": "Python 3.10.7 64-bit",
      "language": "python",
      "name": "python3"
    },
    "language_info": {
      "codemirror_mode": {
        "name": "ipython",
        "version": 3
      },
      "file_extension": ".py",
      "mimetype": "text/x-python",
      "name": "python",
      "nbconvert_exporter": "python",
      "pygments_lexer": "ipython3",
      "version": "3.10.7"
    },
    "vscode": {
      "interpreter": {
        "hash": "27f6fea6f47ae512550f0b8facdbd035a93e1dd89633f7bf2dd00a2502c71d0d"
      }
    }
  },
  "nbformat": 4,
  "nbformat_minor": 0
}
